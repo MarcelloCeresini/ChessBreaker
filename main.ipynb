{
  "cells": [
    {
      "cell_type": "markdown",
      "metadata": {
        "colab_type": "text",
        "id": "view-in-github"
      },
      "source": [
        "<a href=\"https://colab.research.google.com/github/MarcelloCeresini/ChessBreaker/blob/main/main.ipynb\" target=\"_parent\"><img src=\"https://colab.research.google.com/assets/colab-badge.svg\" alt=\"Open In Colab\"/></a>"
      ]
    },
    {
      "cell_type": "code",
      "execution_count": 2,
      "metadata": {
        "id": "j2iWAxgCHN7z"
      },
      "outputs": [],
      "source": [
        "username = 'MarcelloCeresini'\n",
        "repository = 'ChessBreaker'"
      ]
    },
    {
      "cell_type": "code",
      "execution_count": 3,
      "metadata": {
        "colab": {
          "base_uri": "https://localhost:8080/"
        },
        "id": "YG5cfeYvHhdU",
        "outputId": "4cec9cda-4545-477d-ac07-85fa2a62972b"
      },
      "outputs": [],
      "source": [
        "# COLAB ONLY CELLS\n",
        "try:\n",
        "    import google.colab\n",
        "    IN_COLAB = True\n",
        "    !nvidia-smi             # Check which GPU has been chosen for us\n",
        "    !rm -rf logs\n",
        "    #from google.colab import drive\n",
        "    #drive.mount('/content/drive')\n",
        "    #%cd /content/drive/MyDrive/GitHub/\n",
        "    !git clone https://github.com/{username}/{repository}.git\n",
        "    %cd {repository}\n",
        "    %ls\n",
        "    !pip3 install anytree\n",
        "except:\n",
        "    IN_COLAB = False"
      ]
    },
    {
      "cell_type": "code",
      "execution_count": 4,
      "metadata": {
        "colab": {
          "base_uri": "https://localhost:8080/"
        },
        "id": "5qDwSWUnXcjn",
        "outputId": "dcf82176-ac9a-4f0c-cf94-8a54e2ef0ba8"
      },
      "outputs": [
        {
          "name": "stdout",
          "output_type": "stream",
          "text": [
            "g1h3\n",
            "g1f3\n",
            "b1c3\n",
            "b1a3\n",
            "h2h3\n",
            "g2g3\n",
            "f2f3\n",
            "e2e3\n",
            "d2d3\n",
            "c2c3\n",
            "b2b3\n",
            "a2a3\n",
            "h2h4\n",
            "g2g4\n",
            "f2f4\n",
            "e2e4\n",
            "d2d4\n",
            "c2c4\n",
            "b2b4\n",
            "a2a4\n",
            "<LegalMoveGenerator at 0x7f577fba0130 (Nh3, Nf3, Nc3, Na3, h3, g3, f3, e3, d3, c3, b3, a3, h4, g4, f4, e4, d4, c4, b4, a4)>\n"
          ]
        }
      ],
      "source": [
        "import numpy as np\n",
        "import tensorflow as tf\n",
        "import chess\n",
        "from anytree import Node\n",
        "\n",
        "import utils\n",
        "from utils import plane_dict, Config, x_y_from_position\n",
        "\n",
        "conf = Config()\n",
        "board = chess.Board()\n",
        "\n",
        "legal_moves = board.legal_moves\n",
        "for move in legal_moves:\n",
        "    print(move.uci())  \n",
        "print(legal_moves)\n"
      ]
    },
    {
      "cell_type": "code",
      "execution_count": 5,
      "metadata": {
        "colab": {
          "base_uri": "https://localhost:8080/"
        },
        "id": "wgK8epdnlt7y",
        "outputId": "7b699a00-5e07-4532-a13d-b4bf34cea97b"
      },
      "outputs": [
        {
          "name": "stdout",
          "output_type": "stream",
          "text": [
            "[8, 9, 10, 11, 12, 13, 14, 15]\n"
          ]
        }
      ],
      "source": [
        "# print(board.fen())\n",
        "print(list(board.pieces(1,True)))"
      ]
    },
    {
      "cell_type": "code",
      "execution_count": 72,
      "metadata": {
        "colab": {
          "base_uri": "https://localhost:8080/"
        },
        "id": "W3TOlR3jMn4v",
        "outputId": "28bfd60e-ed09-4733-bef3-4e0cc79341fb"
      },
      "outputs": [],
      "source": [
        "def uniform_tensor(x):\n",
        "    return tf.fill(conf.BOARD_SHAPE, x)\n",
        "\n",
        "EMPTY_PLANES = tf.zeros([*conf.BOARD_SHAPE, conf.TOTAL_PLANES], dtype=conf.PLANES_DTYPE)\n",
        "\n",
        "def special_input_planes(board):\n",
        "    return tf.transpose(tf.vectorized_map( \n",
        "            uniform_tensor,\n",
        "            tf.constant([\n",
        "                int(board.turn                                 ),\n",
        "                int(board.fullmove_number-1                    ),   # don't know why but it starts from 1 on move 1, just reduce it by one and now it's right  \n",
        "                int(board.has_kingside_castling_rights(True)   ),   # True for White\n",
        "                int(board.has_queenside_castling_rights(True)  ),\n",
        "                int(board.has_kingside_castling_rights(False)  ),   # False for Black\n",
        "                int(board.has_queenside_castling_rights(False) ),\n",
        "                int(board.halfmove_clock                       )\n",
        "            ], dtype=conf.PLANES_DTYPE)\n",
        "        ), [1,2,0])\n",
        "\n",
        "\n",
        "def update_planes(current, board, board_history):\n",
        "\n",
        "    if current == None: # root, initialize to zero\n",
        "        current = tf.zeros([*conf.BOARD_SHAPE, conf.PAST_TIMESTEPS*conf.REPEATED_PLANES], dtype=conf.PLANES_DTYPE)\n",
        "    \n",
        "    planes = [] # since we cannot \"change\" a tensor after creating it, we create them one by one in a list and then stack them\n",
        "\n",
        "    for color in range(2):                                                                  # for each color\n",
        "        for piece_type in range(1, conf.N_PIECE_TYPES+1):                                   # for each piece type\n",
        "            indices = []                                                                    # we save the position on the board in a list\n",
        "            for position in list(board.pieces(piece_type, color)):                          # for each piece of that type\n",
        "                indices.append(x_y_from_position(position))                                 # the function transforms a number (1-64) into a tuple (1-8, 1-8)\n",
        "            values = np.array([1]*len(indices), dtype=conf.PLANES_DTYPE_NP)                 # simply \"1\" in a list with unit8 dtype\n",
        "            tensor = tf.sparse.to_dense(tf.SparseTensor(dense_shape=[*conf.BOARD_SHAPE], indices=indices, values=values))   ### created as sparse because it's easier, needed as dense afterwards\n",
        "            planes.append(tensor)\n",
        "        planes.append(uniform_tensor(tf.constant(board_history.count(board_history[-1]), dtype=conf.PLANES_DTYPE)))      # adding a \"repetition plane\" for each color (simply count how many times the current (last) position has been encountered)\n",
        "\n",
        "    current_planes = tf.transpose(tf.stack(planes), [1,2,0])                                # transpose them to have the planes as last dimension\n",
        "\n",
        "    old_planes = tf.slice(current, begin=[0,0,0], size=[*conf.BOARD_SHAPE, (conf.PAST_TIMESTEPS-1)*conf.REPEATED_PLANES]) # take the first 7 repetitions, slice them and paste them at the end of the new planes\n",
        "    \n",
        "    return tf.concat([current_planes, old_planes, special_input_planes(board)], axis=-1)    # also concat the special planes\n"
      ]
    },
    {
      "cell_type": "code",
      "execution_count": null,
      "metadata": {
        "id": "yv2zcMiUh9bU"
      },
      "outputs": [],
      "source": [
        "class MyNode(Node): # subclassing Node from Anytree to add some methods\n",
        "\n",
        "    def update_action_value(self, new_action_value):\n",
        "        self.action_value += (new_action_value-self.action_value)/(self.visit_count+1)\n",
        "\n",
        "    def calculate_upper_confidence_bound(self, num_total_iterations=1):\n",
        "        return self.action_value + conf.expl_param(num_total_iterations)*self.prior/(1+self.visit_count)\n",
        "\n",
        "    def calculate_move_probability(self, num_total_iterations=1):\n",
        "        return self.visit_count**(1/conf.temp_param(num_total_iterations))\n",
        "\n",
        "\n",
        "def MTCS(model, root_node, max_depth, num_restarts):\n",
        "    \n",
        "    for i in range(num_restarts):\n",
        "\n",
        "        while root_node.depth <= max_depth:\n",
        "            assert root_node.depth >= 0 and root_node.depth <= max_depth, \"depth is wrong\"\n",
        "\n",
        "            if root_node.is_leaf:\n",
        "\n",
        "                full_moves, outcome = model(root_node.planes) # TODO: actually implement good output from model\n",
        "                priors = tf.boolean_mask(full_moves, utils.mask_moves(legal_moves))\n",
        "\n",
        "                root_node.action_value = outcome\n",
        "\n",
        "                for move, prior in zip(legal_moves, priors):\n",
        "                    new_board = root_node.board.push(move)\n",
        "                    new_board_history = root_node.board_history.copy()\n",
        "                    new_board_history.append(new_board.fen()[:-6])\n",
        "                    MyNode(\n",
        "                        move, \n",
        "                        parent = root_node, \n",
        "                        prior = prior,\n",
        "                        visit_count = 1,\n",
        "                        board_history = new_board_history,\n",
        "                        board = new_board, \n",
        "                        planes = update_planes(root_node.planes, new_board, new_board_history)\n",
        "                    )\n",
        "\n",
        "            if root_node.depth < max_depth:\n",
        "                children = root_node.children\n",
        "                values = [child.caclulate_upper_confidence_bound() for child in children]\n",
        "                root_node = children[np.argmax(values)]\n",
        "                root_node.visit_count += 1\n",
        "\n",
        "            else:    \n",
        "                outcome = root_node.action_value # needed for when depth=max_depth AND NOT LEAF (that means, already visited leaf) --> don't REDO the evaluation, it would give the same result, simply copy it from before\n",
        "                break                            # no need to descend the tree further, max depth is reached\n",
        "           \n",
        "        # barckpropagation of action value through the tree\n",
        "        while root_node.parent != None:\n",
        "            assert root_node.depth >= 0 and root_node.depth <= max_depth, \"depth is wrong\"\n",
        "            root_node = root_node.parent\n",
        "            root_node.update_action_value(outcome)\n",
        "     \n",
        "    return root_node\n",
        "\n",
        "\n",
        "def choose_move(root_node):\n",
        "    children = root_node.children\n",
        "    assert root_node.children != [], \"No children, cannot choose move\"\n",
        "\n",
        "    root_node = np.random.choice(\n",
        "        children, \n",
        "        p=[child.calculate_move_probability() for child in children]    # choose the child proportionally to the number of times it has been visited (exponentiated by a temperature parameter)\n",
        "    ) \n",
        "        \n",
        "    root_node.parent = None # To detach the subtree and restart with the next move search\n",
        "\n",
        "    return root_node\n",
        "\n",
        "\n",
        "def complete_game(board):\n",
        "    board = chess.Board()\n",
        "    root_node = MyNode(\n",
        "        \"\",                                             # no name needed for initial position\n",
        "        board = board,\n",
        "        board_history = board.fen()[:-6],               # we remove the \"en passant\", \"halfmove clock\" and \"fullmove number\" from the fen --> position will be identical even if those values differ\n",
        "        planes = update_planes(EMPTY_PLANES, board),    # start from empty planes and fill them (usually you need previous planes to fill them)\n",
        "        action_value=0)\n",
        "\n",
        "    while not root_node.board.is_game_over(claim_draw=True) and root_node.board.fullmove_number <= conf.MAX_MOVE_COUNT:\n",
        "        \n",
        "        root_node = MTCS(current_model, root_node, max_depth = conf.MAX_DEPTH, num_restarts=conf.NUM_RESTARTS)                          # though the root node you can access all the tree\n",
        "        root_node = choose_move(root_node)\n",
        "\n"
      ]
    }
  ],
  "metadata": {
    "colab": {
      "authorship_tag": "ABX9TyMu73IMlerhIT1uChZ4Lk90",
      "include_colab_link": true,
      "name": "Untitled7.ipynb",
      "provenance": []
    },
    "kernelspec": {
      "display_name": "env",
      "language": "python",
      "name": "env"
    },
    "language_info": {
      "codemirror_mode": {
        "name": "ipython",
        "version": 3
      },
      "file_extension": ".py",
      "mimetype": "text/x-python",
      "name": "python",
      "nbconvert_exporter": "python",
      "pygments_lexer": "ipython3",
      "version": "3.8.10"
    }
  },
  "nbformat": 4,
  "nbformat_minor": 0
}
