{
  "nbformat": 4,
  "nbformat_minor": 0,
  "metadata": {
    "colab": {
      "name": "Untitled7.ipynb",
      "provenance": [],
      "authorship_tag": "ABX9TyNnQrQe48LCB6bzKWmvZtM2",
      "include_colab_link": true
    },
    "kernelspec": {
      "name": "python3",
      "display_name": "Python 3"
    },
    "language_info": {
      "name": "python"
    }
  },
  "cells": [
    {
      "cell_type": "markdown",
      "metadata": {
        "id": "view-in-github",
        "colab_type": "text"
      },
      "source": [
        "<a href=\"https://colab.research.google.com/github/MarcelloCeresini/ChessBreaker/blob/main/main.ipynb\" target=\"_parent\"><img src=\"https://colab.research.google.com/assets/colab-badge.svg\" alt=\"Open In Colab\"/></a>"
      ]
    },
    {
      "cell_type": "code",
      "source": [
        "username = 'MarcelloCeresini'\n",
        "repository = 'ChessBreaker'"
      ],
      "metadata": {
        "id": "j2iWAxgCHN7z"
      },
      "execution_count": null,
      "outputs": []
    },
    {
      "cell_type": "code",
      "source": [
        "# COLAB ONLY CELLS\n",
        "try:\n",
        "    import google.colab\n",
        "    IN_COLAB = True\n",
        "    !nvidia-smi             # Check which GPU has been chosen for us\n",
        "    !rm -rf logs\n",
        "    #from google.colab import drive\n",
        "    #drive.mount('/content/drive')\n",
        "    #%cd /content/drive/MyDrive/GitHub/\n",
        "    !git clone https://github.com/{username}/{repository}.git\n",
        "    %cd {repository}\n",
        "    %ls\n",
        "except:\n",
        "    IN_COLAB = False"
      ],
      "metadata": {
        "colab": {
          "base_uri": "https://localhost:8080/"
        },
        "id": "YG5cfeYvHhdU",
        "outputId": "4f3017a4-fe4e-4c5e-8a3e-ac37cf3936c3"
      },
      "execution_count": null,
      "outputs": [
        {
          "output_type": "stream",
          "name": "stdout",
          "text": [
            "NVIDIA-SMI has failed because it couldn't communicate with the NVIDIA driver. Make sure that the latest NVIDIA driver is installed and running.\n",
            "\n",
            "Cloning into 'ChessBreaker'...\n",
            "remote: Enumerating objects: 28, done.\u001b[K\n",
            "remote: Counting objects: 100% (28/28), done.\u001b[K\n",
            "remote: Compressing objects: 100% (26/26), done.\u001b[K\n",
            "remote: Total 28 (delta 12), reused 0 (delta 0), pack-reused 0\u001b[K\n",
            "Unpacking objects: 100% (28/28), done.\n",
            "/content/ChessBreaker/ChessBreaker\n",
            "main.ipynb  README.md  utils.py\n"
          ]
        }
      ]
    },
    {
      "cell_type": "code",
      "execution_count": null,
      "metadata": {
        "id": "5qDwSWUnXcjn",
        "colab": {
          "base_uri": "https://localhost:8080/",
          "height": 131
        },
        "outputId": "c3704994-a166-4969-d42e-80ad0c54c543"
      },
      "outputs": [
        {
          "output_type": "error",
          "ename": "SyntaxError",
          "evalue": "ignored",
          "traceback": [
            "\u001b[0;36m  File \u001b[0;32m\"<ipython-input-5-e86c3a0c16c7>\"\u001b[0;36m, line \u001b[0;32m20\u001b[0m\n\u001b[0;31m    out = tf.zeros((BOARD_SHAPE[0]*BOARD_SHAPE[1]*), dtype=tf.dtypes.bool)\u001b[0m\n\u001b[0m                                                  ^\u001b[0m\n\u001b[0;31mSyntaxError\u001b[0m\u001b[0;31m:\u001b[0m invalid syntax\n"
          ]
        }
      ],
      "source": [
        "import tensorflow as tf\n",
        "import chess\n",
        "\n",
        "from utils import plane_dict\n",
        "from config import Config\n",
        "\n",
        "conf = Config()\n",
        "board = chess.Board()\n",
        "\n",
        "# N_PLANES = len(plane_dict)\n",
        "# BOARD_SHAPE = (8, 8)\n",
        "# BOARD_SIZE = BOARD_SHAPE[0] * BOARD_SHAPE[1]\n",
        "# MAX_MOVE_COUNT = 255\n",
        "# N_PIECE_TYPES = 6\n",
        "# PAST_TIMESTEPS = 8\n",
        "\n",
        "\n",
        "legal_moves = board.legal_moves\n"
      ]
    },
    {
      "cell_type": "code",
      "source": [
        "def uniform_tensor(x):\n",
        "    return tf.fill(conf.BOARD_SHAPE, x)\n",
        "\n",
        "def normal_input_planes(board):\n",
        "    normal_planes = tf.zeros((*conf.BOARD_SHAPE, (conf.N_PIECE_TYPES+1)*conf.PAST_TIMESTEPS*2), dtype=tf.dtypes.int8) # adding 1 plane for repetition counter for each timestep for each player\n",
        "    ###### to add planes here\n",
        "    tf.cast(\n",
        "        \n",
        "    )\n",
        "def special_input_planes(board):\n",
        "    return tf.vectorized_map( \n",
        "            uniform_tensor, \n",
        "            [\n",
        "                bool(board.Turn),\n",
        "                board.fullmove_number,\n",
        "                bool(board.has_kingside_castling_rights(True)),   # True = White\n",
        "                bool(board.has_queenside_castling_rights(True)),\n",
        "                bool(board.has_kingside_castling_rights(False)),  # False = Black\n",
        "                bool(board.has_queenside_castling_rights(False)),\n",
        "                board.halfmove_clock\n",
        "            ]\n",
        "        )"
      ],
      "metadata": {
        "id": "W3TOlR3jMn4v"
      },
      "execution_count": null,
      "outputs": []
    }
  ]
}