{
  "cells": [
    {
      "cell_type": "markdown",
      "metadata": {
        "colab_type": "text",
        "id": "view-in-github"
      },
      "source": [
        "<a href=\"https://colab.research.google.com/github/MarcelloCeresini/ChessBreaker/blob/main/main.ipynb\" target=\"_parent\"><img src=\"https://colab.research.google.com/assets/colab-badge.svg\" alt=\"Open In Colab\"/></a>"
      ]
    },
    {
      "cell_type": "code",
      "execution_count": 1,
      "metadata": {
        "id": "j2iWAxgCHN7z"
      },
      "outputs": [],
      "source": [
        "username = 'MarcelloCeresini'\n",
        "repository = 'ChessBreaker'"
      ]
    },
    {
      "cell_type": "code",
      "execution_count": 2,
      "metadata": {
        "colab": {
          "base_uri": "https://localhost:8080/"
        },
        "id": "YG5cfeYvHhdU",
        "outputId": "4cec9cda-4545-477d-ac07-85fa2a62972b"
      },
      "outputs": [],
      "source": [
        "# COLAB ONLY CELLS\n",
        "try:\n",
        "    import google.colab\n",
        "    IN_COLAB = True\n",
        "    !nvidia-smi             # Check which GPU has been chosen for us\n",
        "    !rm -rf logs\n",
        "    #from google.colab import drive\n",
        "    #drive.mount('/content/drive')\n",
        "    #%cd /content/drive/MyDrive/GitHub/\n",
        "    !git clone https://github.com/{username}/{repository}.git\n",
        "    %cd {repository}\n",
        "    %ls\n",
        "    !pip3 install anytree\n",
        "except:\n",
        "    IN_COLAB = False"
      ]
    },
    {
      "cell_type": "code",
      "execution_count": 3,
      "metadata": {
        "colab": {
          "base_uri": "https://localhost:8080/"
        },
        "id": "5qDwSWUnXcjn",
        "outputId": "dcf82176-ac9a-4f0c-cf94-8a54e2ef0ba8"
      },
      "outputs": [
        {
          "name": "stdout",
          "output_type": "stream",
          "text": [
            "g1h3\n",
            "g1f3\n",
            "b1c3\n",
            "b1a3\n",
            "h2h3\n",
            "g2g3\n",
            "f2f3\n",
            "e2e3\n",
            "d2d3\n",
            "c2c3\n",
            "b2b3\n",
            "a2a3\n",
            "h2h4\n",
            "g2g4\n",
            "f2f4\n",
            "e2e4\n",
            "d2d4\n",
            "c2c4\n",
            "b2b4\n",
            "a2a4\n",
            "<LegalMoveGenerator at 0x7f7fcdfef7c0 (Nh3, Nf3, Nc3, Na3, h3, g3, f3, e3, d3, c3, b3, a3, h4, g4, f4, e4, d4, c4, b4, a4)>\n"
          ]
        },
        {
          "name": "stderr",
          "output_type": "stream",
          "text": [
            "2022-06-02 14:52:13.291068: I tensorflow/stream_executor/cuda/cuda_gpu_executor.cc:975] successful NUMA node read from SysFS had negative value (-1), but there must be at least one NUMA node, so returning NUMA node zero\n",
            "2022-06-02 14:52:13.317225: I tensorflow/stream_executor/cuda/cuda_gpu_executor.cc:975] successful NUMA node read from SysFS had negative value (-1), but there must be at least one NUMA node, so returning NUMA node zero\n",
            "2022-06-02 14:52:13.317415: I tensorflow/stream_executor/cuda/cuda_gpu_executor.cc:975] successful NUMA node read from SysFS had negative value (-1), but there must be at least one NUMA node, so returning NUMA node zero\n",
            "2022-06-02 14:52:13.318209: I tensorflow/core/platform/cpu_feature_guard.cc:193] This TensorFlow binary is optimized with oneAPI Deep Neural Network Library (oneDNN) to use the following CPU instructions in performance-critical operations:  AVX2 FMA\n",
            "To enable them in other operations, rebuild TensorFlow with the appropriate compiler flags.\n",
            "2022-06-02 14:52:13.319200: I tensorflow/stream_executor/cuda/cuda_gpu_executor.cc:975] successful NUMA node read from SysFS had negative value (-1), but there must be at least one NUMA node, so returning NUMA node zero\n",
            "2022-06-02 14:52:13.319368: I tensorflow/stream_executor/cuda/cuda_gpu_executor.cc:975] successful NUMA node read from SysFS had negative value (-1), but there must be at least one NUMA node, so returning NUMA node zero\n",
            "2022-06-02 14:52:13.319486: I tensorflow/stream_executor/cuda/cuda_gpu_executor.cc:975] successful NUMA node read from SysFS had negative value (-1), but there must be at least one NUMA node, so returning NUMA node zero\n",
            "2022-06-02 14:52:13.712594: I tensorflow/stream_executor/cuda/cuda_gpu_executor.cc:975] successful NUMA node read from SysFS had negative value (-1), but there must be at least one NUMA node, so returning NUMA node zero\n",
            "2022-06-02 14:52:13.712870: I tensorflow/stream_executor/cuda/cuda_gpu_executor.cc:975] successful NUMA node read from SysFS had negative value (-1), but there must be at least one NUMA node, so returning NUMA node zero\n",
            "2022-06-02 14:52:13.713764: I tensorflow/stream_executor/cuda/cuda_gpu_executor.cc:975] successful NUMA node read from SysFS had negative value (-1), but there must be at least one NUMA node, so returning NUMA node zero\n",
            "2022-06-02 14:52:13.713903: I tensorflow/core/common_runtime/gpu/gpu_device.cc:1532] Created device /job:localhost/replica:0/task:0/device:GPU:0 with 3564 MB memory:  -> device: 0, name: NVIDIA GeForce RTX 2060, pci bus id: 0000:01:00.0, compute capability: 7.5\n"
          ]
        }
      ],
      "source": [
        "import numpy as np\n",
        "import tensorflow as tf\n",
        "import chess\n",
        "from anytree import Node\n",
        "from time import time\n",
        "import matplotlib.pyplot as plt\n",
        "from tqdm import tqdm\n",
        "\n",
        "import multiprocessing\n",
        "from multiprocessing import shared_memory\n",
        "import os\n",
        "\n",
        "import utils\n",
        "from utils import plane_dict, Config, x_y_from_position\n",
        "from model import ResNet\n",
        "\n",
        "conf = Config()\n",
        "board = chess.Board()\n",
        "\n",
        "legal_moves = board.legal_moves\n",
        "for move in legal_moves:\n",
        "    print(move.uci())  \n",
        "print(legal_moves)\n"
      ]
    },
    {
      "cell_type": "code",
      "execution_count": 4,
      "metadata": {
        "colab": {
          "base_uri": "https://localhost:8080/"
        },
        "id": "wgK8epdnlt7y",
        "outputId": "7b699a00-5e07-4532-a13d-b4bf34cea97b"
      },
      "outputs": [
        {
          "name": "stdout",
          "output_type": "stream",
          "text": [
            "[8, 9, 10, 11, 12, 13, 14, 15]\n"
          ]
        }
      ],
      "source": [
        "# print(board.fen())\n",
        "print(list(board.pieces(1,True)))"
      ]
    },
    {
      "cell_type": "code",
      "execution_count": 5,
      "metadata": {
        "colab": {
          "base_uri": "https://localhost:8080/"
        },
        "id": "W3TOlR3jMn4v",
        "outputId": "28bfd60e-ed09-4733-bef3-4e0cc79341fb"
      },
      "outputs": [],
      "source": [
        "def uniform_tensor(x):\n",
        "    return tf.fill(conf.BOARD_SHAPE, x)\n",
        "\n",
        "def special_input_planes(board):                                    # not repeated planes\n",
        "    return tf.transpose(tf.vectorized_map(                          # vectorized_map = map_fn but in parallel (just a tad faster) \n",
        "            uniform_tensor,\n",
        "            tf.constant([\n",
        "                int(board.turn                                 ),   # whose turn it is\n",
        "                int(board.fullmove_number-1                    ),   # don't know why but it starts from 1 on move 1, just reduce it by one and now it's right (MAX 255, using uint8!!)\n",
        "                int(board.has_kingside_castling_rights(True)   ),   # True for White\n",
        "                int(board.has_queenside_castling_rights(True)  ),\n",
        "                int(board.has_kingside_castling_rights(False)  ),   # False for Black\n",
        "                int(board.has_queenside_castling_rights(False) ),\n",
        "                int(board.halfmove_clock                       )    # number of moves from last capture / pawn move --> reaching 50 means draw\n",
        "            ], dtype=conf.PLANES_DTYPE)\n",
        "        ), [1,2,0])                                                 # transpose to have plane number last --> in order to concat them\n",
        "\n",
        "\n",
        "def update_planes(current, board, board_history):\n",
        "\n",
        "    if current == None: # root, initialize to zero\n",
        "        current = tf.zeros([*conf.BOARD_SHAPE, conf.TOTAL_PLANES], dtype=conf.PLANES_DTYPE)\n",
        "    \n",
        "    planes = [] # since we cannot \"change\" a tensor after creating it, we create them one by one in a list and then stack them\n",
        "\n",
        "    for color in range(2):                                                                                                  # for each color\n",
        "        for piece_type in range(1, conf.N_PIECE_TYPES+1):                                                                   # for each piece type\n",
        "            indices = []                                                                                                    # --> we save the position on the board in a list\n",
        "            for position in list(board.pieces(piece_type, color)):                                                          # for each piece of that type\n",
        "                indices.append(x_y_from_position(position))                                                                 # the function transforms a number (1-64) into a tuple (1-8, 1-8)\n",
        "            if len(indices) == 0:\n",
        "                tensor = uniform_tensor(tf.constant(0, dtype=conf.PLANES_DTYPE))\n",
        "            else:    \n",
        "                values = np.array([1]*len(indices), dtype=conf.PLANES_DTYPE_NP) # simply \"1\" in a list with unit8 dtype\n",
        "                tensor = tf.sparse.to_dense(tf.SparseTensor(dense_shape=[*conf.BOARD_SHAPE], indices=indices, values=values))   ### created as sparse because it's easier, needed as dense afterwards\n",
        "            planes.append(tensor)\n",
        "        planes.append(uniform_tensor(tf.constant(board_history.count(board_history[-1]), dtype=conf.PLANES_DTYPE)))         # adding a \"repetition plane\" for each color (simply count how many times the current (last) position has been encountered)\n",
        "\n",
        "    # 1 stack\n",
        "    current_planes = tf.transpose(tf.stack(planes), [1,2,0])                                                                # transpose them to have the planes as last dimension\n",
        "    # 7 stacks (total 8 repetitions)\n",
        "    old_planes = tf.slice(current, begin=[0,0,0], size=[*conf.BOARD_SHAPE, (conf.PAST_TIMESTEPS-1)*conf.REPEATED_PLANES])   # take the first 7 repetitions, slice them and paste them at the end of the new planes (last is discarded, as are special planes)\n",
        "    \n",
        "    return tf.concat([current_planes, old_planes, special_input_planes(board)], axis=-1)    # also concat the special planes\n"
      ]
    },
    {
      "cell_type": "code",
      "execution_count": 10,
      "metadata": {
        "id": "yv2zcMiUh9bU"
      },
      "outputs": [
        {
          "name": "stdout",
          "output_type": "stream",
          "text": [
            "beginning\n",
            "end\n",
            "0\n"
          ]
        },
        {
          "ename": "TypeError",
          "evalue": "cannot pickle 'weakref' object",
          "output_type": "error",
          "traceback": [
            "\u001b[0;31m---------------------------------------------------------------------------\u001b[0m",
            "\u001b[0;31mTypeError\u001b[0m                                 Traceback (most recent call last)",
            "\u001b[1;32m/home/marcello/github/ChessBreaker/main.ipynb Cell 7'\u001b[0m in \u001b[0;36m<cell line: 138>\u001b[0;34m()\u001b[0m\n\u001b[1;32m    <a href='vscode-notebook-cell:/home/marcello/github/ChessBreaker/main.ipynb#ch0000006?line=134'>135</a>\u001b[0m     \u001b[39mreturn\u001b[39;00m move_list\n\u001b[1;32m    <a href='vscode-notebook-cell:/home/marcello/github/ChessBreaker/main.ipynb#ch0000006?line=136'>137</a>\u001b[0m model \u001b[39m=\u001b[39m ResNet()\n\u001b[0;32m--> <a href='vscode-notebook-cell:/home/marcello/github/ChessBreaker/main.ipynb#ch0000006?line=137'>138</a>\u001b[0m moves \u001b[39m=\u001b[39m complete_game(model)\n",
            "\u001b[1;32m/home/marcello/github/ChessBreaker/main.ipynb Cell 7'\u001b[0m in \u001b[0;36mcomplete_game\u001b[0;34m(model)\u001b[0m\n\u001b[1;32m    <a href='vscode-notebook-cell:/home/marcello/github/ChessBreaker/main.ipynb#ch0000006?line=127'>128</a>\u001b[0m     \u001b[39mfor\u001b[39;00m i, result \u001b[39min\u001b[39;00m \u001b[39menumerate\u001b[39m(root_nodes):\n\u001b[1;32m    <a href='vscode-notebook-cell:/home/marcello/github/ChessBreaker/main.ipynb#ch0000006?line=128'>129</a>\u001b[0m         \u001b[39mprint\u001b[39m(i)\n\u001b[0;32m--> <a href='vscode-notebook-cell:/home/marcello/github/ChessBreaker/main.ipynb#ch0000006?line=129'>130</a>\u001b[0m         \u001b[39mprint\u001b[39m(result\u001b[39m.\u001b[39;49mget())\n\u001b[1;32m    <a href='vscode-notebook-cell:/home/marcello/github/ChessBreaker/main.ipynb#ch0000006?line=131'>132</a>\u001b[0m root_node \u001b[39m=\u001b[39m choose_move(root_node) \u001b[39m# though the root node you can access all the tree\u001b[39;00m\n\u001b[1;32m    <a href='vscode-notebook-cell:/home/marcello/github/ChessBreaker/main.ipynb#ch0000006?line=132'>133</a>\u001b[0m move_list\u001b[39m.\u001b[39mappend(root_node\u001b[39m.\u001b[39mname)\n",
            "File \u001b[0;32m/usr/lib/python3.8/multiprocessing/pool.py:771\u001b[0m, in \u001b[0;36mApplyResult.get\u001b[0;34m(self, timeout)\u001b[0m\n\u001b[1;32m    <a href='file:///usr/lib/python3.8/multiprocessing/pool.py?line=768'>769</a>\u001b[0m     \u001b[39mreturn\u001b[39;00m \u001b[39mself\u001b[39m\u001b[39m.\u001b[39m_value\n\u001b[1;32m    <a href='file:///usr/lib/python3.8/multiprocessing/pool.py?line=769'>770</a>\u001b[0m \u001b[39melse\u001b[39;00m:\n\u001b[0;32m--> <a href='file:///usr/lib/python3.8/multiprocessing/pool.py?line=770'>771</a>\u001b[0m     \u001b[39mraise\u001b[39;00m \u001b[39mself\u001b[39m\u001b[39m.\u001b[39m_value\n",
            "File \u001b[0;32m/usr/lib/python3.8/multiprocessing/pool.py:537\u001b[0m, in \u001b[0;36mPool._handle_tasks\u001b[0;34m(taskqueue, put, outqueue, pool, cache)\u001b[0m\n\u001b[1;32m    <a href='file:///usr/lib/python3.8/multiprocessing/pool.py?line=534'>535</a>\u001b[0m     \u001b[39mbreak\u001b[39;00m\n\u001b[1;32m    <a href='file:///usr/lib/python3.8/multiprocessing/pool.py?line=535'>536</a>\u001b[0m \u001b[39mtry\u001b[39;00m:\n\u001b[0;32m--> <a href='file:///usr/lib/python3.8/multiprocessing/pool.py?line=536'>537</a>\u001b[0m     put(task)\n\u001b[1;32m    <a href='file:///usr/lib/python3.8/multiprocessing/pool.py?line=537'>538</a>\u001b[0m \u001b[39mexcept\u001b[39;00m \u001b[39mException\u001b[39;00m \u001b[39mas\u001b[39;00m e:\n\u001b[1;32m    <a href='file:///usr/lib/python3.8/multiprocessing/pool.py?line=538'>539</a>\u001b[0m     job, idx \u001b[39m=\u001b[39m task[:\u001b[39m2\u001b[39m]\n",
            "File \u001b[0;32m/usr/lib/python3.8/multiprocessing/connection.py:206\u001b[0m, in \u001b[0;36m_ConnectionBase.send\u001b[0;34m(self, obj)\u001b[0m\n\u001b[1;32m    <a href='file:///usr/lib/python3.8/multiprocessing/connection.py?line=203'>204</a>\u001b[0m \u001b[39mself\u001b[39m\u001b[39m.\u001b[39m_check_closed()\n\u001b[1;32m    <a href='file:///usr/lib/python3.8/multiprocessing/connection.py?line=204'>205</a>\u001b[0m \u001b[39mself\u001b[39m\u001b[39m.\u001b[39m_check_writable()\n\u001b[0;32m--> <a href='file:///usr/lib/python3.8/multiprocessing/connection.py?line=205'>206</a>\u001b[0m \u001b[39mself\u001b[39m\u001b[39m.\u001b[39m_send_bytes(_ForkingPickler\u001b[39m.\u001b[39;49mdumps(obj))\n",
            "File \u001b[0;32m/usr/lib/python3.8/multiprocessing/reduction.py:51\u001b[0m, in \u001b[0;36mForkingPickler.dumps\u001b[0;34m(cls, obj, protocol)\u001b[0m\n\u001b[1;32m     <a href='file:///usr/lib/python3.8/multiprocessing/reduction.py?line=47'>48</a>\u001b[0m \u001b[39m@classmethod\u001b[39m\n\u001b[1;32m     <a href='file:///usr/lib/python3.8/multiprocessing/reduction.py?line=48'>49</a>\u001b[0m \u001b[39mdef\u001b[39;00m \u001b[39mdumps\u001b[39m(\u001b[39mcls\u001b[39m, obj, protocol\u001b[39m=\u001b[39m\u001b[39mNone\u001b[39;00m):\n\u001b[1;32m     <a href='file:///usr/lib/python3.8/multiprocessing/reduction.py?line=49'>50</a>\u001b[0m     buf \u001b[39m=\u001b[39m io\u001b[39m.\u001b[39mBytesIO()\n\u001b[0;32m---> <a href='file:///usr/lib/python3.8/multiprocessing/reduction.py?line=50'>51</a>\u001b[0m     \u001b[39mcls\u001b[39;49m(buf, protocol)\u001b[39m.\u001b[39;49mdump(obj)\n\u001b[1;32m     <a href='file:///usr/lib/python3.8/multiprocessing/reduction.py?line=51'>52</a>\u001b[0m     \u001b[39mreturn\u001b[39;00m buf\u001b[39m.\u001b[39mgetbuffer()\n",
            "\u001b[0;31mTypeError\u001b[0m: cannot pickle 'weakref' object"
          ]
        }
      ],
      "source": [
        "class MyNode(Node): # subclassing Node from Anytree to add some methods\n",
        "\n",
        "    def update_action_value(self, new_action_value):                                                        # used during backtracking to update action value if the simulation reached the end through that node\n",
        "        self.action_value += (new_action_value-self.action_value)/(self.visit_count+1)                      # simply the mean value, but computed iteratively\n",
        "\n",
        "    def calculate_upper_confidence_bound(self, num_total_iterations=1):                                     # Q + U --> U proportional to P/(1+N) --> parameter decides exploration vs. exploitation\n",
        "        return self.action_value + conf.expl_param(num_total_iterations)*self.prior/(1+self.visit_count)\n",
        "\n",
        "    def calculate_move_probability(self, num_total_iterations=1):                                           # N^(1/tau) --> tau is a temperature parameter (exploration vs. exploitation)\n",
        "        return self.visit_count**(1/conf.temp_param(num_total_iterations))\n",
        "\n",
        "\n",
        "def MTCS(model, root_node, max_depth, init_iterations, num_restarts):\n",
        "    print(root_node.name)\n",
        "    INIT_ROOT = root_node\n",
        "    # for i in tqdm(range(num_restarts)):                                                                           # number of times to explore up until max_depth\n",
        "    while init_iterations < num_restarts:\n",
        "        init_iterations += 1\n",
        "\n",
        "        root_node = INIT_ROOT\n",
        "        while root_node.depth <= max_depth:                                                                 # while depth < max --> descend\n",
        "            assert root_node.depth >= 0 and root_node.depth <= max_depth, \"depth is wrong\"          \n",
        "\n",
        "            result = root_node.board.outcome()\n",
        "            if result != None:                                                                              # game ended --> draw or loss (cannot win before doing your move)\n",
        "                print(root_node.board)\n",
        "                print(\"turn\", root_node.board.turn)\n",
        "                print(\"winner\", result.winner, \"should always be None or opposite to 'turn'\")\n",
        "                if result.winner != None:\n",
        "                    root_node.outcome = -1\n",
        "                else:\n",
        "                    root_node.outcome = 0\n",
        "                break\n",
        "            \n",
        "            if root_node.is_leaf:                                                                           # if it's leaf --> need to pass the position (planes) through the model, to get priors (action_values) and outcome (state_value)\n",
        "                \n",
        "                legal_moves = list(root_node.board.legal_moves)\n",
        "                print(root_node)\n",
        "                full_moves, outcome = model(tf.expand_dims(root_node.planes, axis=0))                       # TODO: Batch them\n",
        "                priors = tf.boolean_mask(full_moves, utils.mask_moves(legal_moves))                         # boolean mask returns a tensor of only the values that were masked (as a list let's say)\n",
        "\n",
        "                print(priors)\n",
        "                root_node.action_value = outcome                                                            # the activation value of a leaf node is the state_value computed by the network\n",
        "\n",
        "                for move, prior in zip(legal_moves, priors):                                                # creating children\n",
        "                    root_board_fen = root_node.board.fen()\n",
        "                    new_board = chess.Board()\n",
        "                    new_board.set_fen(root_board_fen)\n",
        "                                                                          # each with their board (by pushing the move)\n",
        "                    new_board.push(move)\n",
        "                    new_board_history = root_node.board_history.copy()                                      # and board history! (copy because list are pointers)\n",
        "                    new_board_history.append(new_board.fen()[:-6])\n",
        "                    MyNode(\n",
        "                        move, \n",
        "                        parent = root_node,                                                                 # very important to build the tree\n",
        "                        prior = prior,                                                                      # prior is the \"initial\" state_value of a node\n",
        "                        visit_count = 0,                                                                    # initialize visit_count to 0\n",
        "                        action_value = 0,\n",
        "                        board = new_board, \n",
        "                        board_history = new_board_history,                                                  \n",
        "                        planes = update_planes(root_node.planes, new_board, new_board_history)              # update the planes --> each node stores its input planes!\n",
        "                    )\n",
        "\n",
        "            if root_node.depth < max_depth:                                                                 # if we are normally descending\n",
        "                children = root_node.children                                                               # get all the children (always != [])\n",
        "                \n",
        "                values = [child.calculate_upper_confidence_bound() for child in children]\n",
        "                root_node = children[np.argmax(values)]\n",
        "                # print(root_node, root_node.depth, max_depth)\n",
        "                root_node.visit_count += 1\n",
        "\n",
        "            else:    \n",
        "                outcome = root_node.action_value # needed for when depth=max_depth AND NOT LEAF (that means, already visited leaf) --> don't REDO the evaluation, it would give the same result, simply copy it from before\n",
        "                break                            # no need to descend the tree further, max depth is reached\n",
        "           \n",
        "        # barckpropagation of action value through the tree\n",
        "        while root_node.parent != INIT_ROOT:\n",
        "            assert root_node.depth >= 0 and root_node.depth <= max_depth, \"depth is wrong\"\n",
        "            root_node = root_node.parent\n",
        "            root_node.update_action_value(outcome)\n",
        "\n",
        "    return INIT_ROOT\n",
        "\n",
        "\n",
        "def choose_move(root_node):\n",
        "    children = root_node.children\n",
        "    assert root_node.children != [], \"No children, cannot choose move\"\n",
        "    p = [child.calculate_move_probability() for child in children] # normalize probabilities\n",
        "    p_norm = [i/sum(p) for i in p]\n",
        "    root_node = np.random.choice(\n",
        "        children, \n",
        "        p = p_norm  # choose the child proportionally to the number of times it has been visited (exponentiated by a temperature parameter)\n",
        "    ) \n",
        "        \n",
        "    root_node.parent = None # To detach the subtree and restart with the next move search\n",
        "\n",
        "    return root_node\n",
        "\n",
        "\n",
        "def complete_game(model):\n",
        "    move_list = []\n",
        "    board = chess.Board()\n",
        "    board_history = [board.fen()[:-6]]                           # we remove the \"en passant\", \"halfmove clock\" and \"fullmove number\" from the fen --> position will be identical even if those values differ\n",
        "    root_node = MyNode(\n",
        "        \"\",                                                     # no name needed for initial position\n",
        "        board = board,\n",
        "        board_history = board_history,\n",
        "        planes = update_planes(None, board, board_history),    # start from empty planes and fill them (usually you need previous planes to fill them)\n",
        "        action_value=0)\n",
        "\n",
        "    while not root_node.board.is_game_over(claim_draw=True) and root_node.board.fullmove_number <= conf.MAX_MOVE_COUNT:\n",
        "        \n",
        "        init_iterations = multiprocessing.Value('i', 0)\n",
        "\n",
        "        NUM_POOLS = os.cpu_count()\n",
        "\n",
        "        with multiprocessing.Pool(NUM_POOLS) as pool:\n",
        "            print(\"beginning\")\n",
        "            root_nodes = [\n",
        "                pool.apply_async(\n",
        "                    func=MTCS, \n",
        "                    args=(model, root_node, conf.MAX_DEPTH, init_iterations, conf.NUM_RESTARTS)\n",
        "                ) \n",
        "            for i in range(NUM_POOLS)]\n",
        "\n",
        "            print(\"end\")\n",
        "\n",
        "            for i, result in enumerate(root_nodes):\n",
        "                print(i)\n",
        "                print(result.get())\n",
        "                                  \n",
        "        root_node = choose_move(root_node) # though the root node you can access all the tree\n",
        "        move_list.append(root_node.name)\n",
        "    \n",
        "    return move_list\n",
        "\n",
        "model = ResNet()\n",
        "moves = complete_game(model)"
      ]
    },
    {
      "cell_type": "code",
      "execution_count": 7,
      "metadata": {},
      "outputs": [
        {
          "name": "stderr",
          "output_type": "stream",
          "text": [
            "2022-06-02 14:52:14.788852: I tensorflow/stream_executor/cuda/cuda_dnn.cc:384] Loaded cuDNN version 8302\n"
          ]
        },
        {
          "name": "stdout",
          "output_type": "stream",
          "text": [
            "(8, 8, 73)\n",
            "Model: \"res_net\"\n",
            "_________________________________________________________________\n",
            " Layer (type)                Output Shape              Param #   \n",
            "=================================================================\n",
            " ResNetBlock (ResNetBlock)   multiple                  358784    \n",
            "                                                                 \n",
            " ResNetBlock (ResNetBlock)   multiple                  1377536   \n",
            "                                                                 \n",
            " ResNetBlock (ResNetBlock)   multiple                  5507584   \n",
            "                                                                 \n",
            " conv2d_12 (Conv2D)          multiple                  37962     \n",
            "                                                                 \n",
            " global_max_pooling2d (Globa  multiple                 0         \n",
            " lMaxPooling2D)                                                  \n",
            "                                                                 \n",
            "=================================================================\n",
            "Total params: 7,281,866\n",
            "Trainable params: 7,281,866\n",
            "Non-trainable params: 0\n",
            "_________________________________________________________________\n"
          ]
        }
      ],
      "source": [
        "model = ResNet()\n",
        "print(model(conf.DUMMY_INPUT)[0].shape)\n",
        "model.summary()"
      ]
    },
    {
      "cell_type": "code",
      "execution_count": 8,
      "metadata": {},
      "outputs": [
        {
          "name": "stdout",
          "output_type": "stream",
          "text": [
            "beginning\n",
            "end\n",
            "0\n"
          ]
        },
        {
          "ename": "ValueError",
          "evalue": "in user code:\n\n    File \"/home/marcello/github/ChessBreaker/env/lib/python3.8/site-packages/keras/saving/saving_utils.py\", line 138, in _wrapped_model  *\n        outputs = model(*args, **kwargs)\n    File \"/home/marcello/github/ChessBreaker/env/lib/python3.8/site-packages/keras/utils/traceback_utils.py\", line 67, in error_handler  **\n        raise e.with_traceback(filtered_tb) from None\n    File \"/tmp/__autograph_generated_filerat1vug5.py\", line 10, in tf__call\n        x = ag__.converted_call(ag__.ld(self).block_1, (ag__.ld(inputs),), None, fscope)\n    File \"/tmp/__autograph_generated_filevajs0euv.py\", line 11, in tf__call\n        x = ag__.converted_call(ag__.converted_call(ag__.ld(layers).BatchNormalization, (), None, fscope), (ag__.ld(x),), None, fscope)\n\n    ValueError: Exception encountered when calling layer \"res_net\" (type ResNet).\n    \n    in user code:\n    \n        File \"/home/marcello/github/ChessBreaker/model.py\", line 54, in call  *\n            x = self.block_1(inputs)\n        File \"/home/marcello/github/ChessBreaker/env/lib/python3.8/site-packages/keras/utils/traceback_utils.py\", line 67, in error_handler  **\n            raise e.with_traceback(filtered_tb) from None\n        File \"/tmp/__autograph_generated_filevajs0euv.py\", line 11, in tf__call\n            x = ag__.converted_call(ag__.converted_call(ag__.ld(layers).BatchNormalization, (), None, fscope), (ag__.ld(x),), None, fscope)\n    \n        ValueError: Exception encountered when calling layer \"ResNetBlock\" (type ResNetBlock).\n        \n        in user code:\n        \n            File \"/home/marcello/github/ChessBreaker/model.py\", line 21, in call  *\n                x = layers.BatchNormalization()(x)\n            File \"/home/marcello/github/ChessBreaker/env/lib/python3.8/site-packages/keras/utils/traceback_utils.py\", line 67, in error_handler  **\n                raise e.with_traceback(filtered_tb) from None\n        \n            ValueError: tf.function only supports singleton tf.Variables created on the first call. Make sure the tf.Variable is only created once or created outside tf.function. See https://www.tensorflow.org/guide/function#creating_tfvariables for more information.\n        \n        \n        Call arguments received by layer \"ResNetBlock\" (type ResNetBlock):\n          • inputs=tf.Tensor(shape=(None, 8, 8, 119), dtype=float32)\n    \n    \n    Call arguments received by layer \"res_net\" (type ResNet):\n      • inputs=tf.Tensor(shape=(None, 8, 8, 119), dtype=float32)\n",
          "output_type": "error",
          "traceback": [
            "\u001b[0;31m---------------------------------------------------------------------------\u001b[0m",
            "\u001b[0;31mValueError\u001b[0m                                Traceback (most recent call last)",
            "\u001b[1;32m/home/marcello/github/ChessBreaker/main.ipynb Cell 9'\u001b[0m in \u001b[0;36m<cell line: 1>\u001b[0;34m()\u001b[0m\n\u001b[0;32m----> <a href='vscode-notebook-cell:/home/marcello/github/ChessBreaker/main.ipynb#ch0000008?line=0'>1</a>\u001b[0m moves \u001b[39m=\u001b[39m complete_game(model)\n",
            "\u001b[1;32m/home/marcello/github/ChessBreaker/main.ipynb Cell 7'\u001b[0m in \u001b[0;36mcomplete_game\u001b[0;34m(model)\u001b[0m\n\u001b[1;32m    <a href='vscode-notebook-cell:/home/marcello/github/ChessBreaker/main.ipynb#ch0000006?line=127'>128</a>\u001b[0m     \u001b[39mfor\u001b[39;00m i, result \u001b[39min\u001b[39;00m \u001b[39menumerate\u001b[39m(root_nodes):\n\u001b[1;32m    <a href='vscode-notebook-cell:/home/marcello/github/ChessBreaker/main.ipynb#ch0000006?line=128'>129</a>\u001b[0m         \u001b[39mprint\u001b[39m(i)\n\u001b[0;32m--> <a href='vscode-notebook-cell:/home/marcello/github/ChessBreaker/main.ipynb#ch0000006?line=129'>130</a>\u001b[0m         \u001b[39mprint\u001b[39m(result\u001b[39m.\u001b[39;49mget())\n\u001b[1;32m    <a href='vscode-notebook-cell:/home/marcello/github/ChessBreaker/main.ipynb#ch0000006?line=131'>132</a>\u001b[0m root_node \u001b[39m=\u001b[39m choose_move(root_node) \u001b[39m# though the root node you can access all the tree\u001b[39;00m\n\u001b[1;32m    <a href='vscode-notebook-cell:/home/marcello/github/ChessBreaker/main.ipynb#ch0000006?line=132'>133</a>\u001b[0m move_list\u001b[39m.\u001b[39mappend(root_node\u001b[39m.\u001b[39mname)\n",
            "File \u001b[0;32m/usr/lib/python3.8/multiprocessing/pool.py:771\u001b[0m, in \u001b[0;36mApplyResult.get\u001b[0;34m(self, timeout)\u001b[0m\n\u001b[1;32m    <a href='file:///usr/lib/python3.8/multiprocessing/pool.py?line=768'>769</a>\u001b[0m     \u001b[39mreturn\u001b[39;00m \u001b[39mself\u001b[39m\u001b[39m.\u001b[39m_value\n\u001b[1;32m    <a href='file:///usr/lib/python3.8/multiprocessing/pool.py?line=769'>770</a>\u001b[0m \u001b[39melse\u001b[39;00m:\n\u001b[0;32m--> <a href='file:///usr/lib/python3.8/multiprocessing/pool.py?line=770'>771</a>\u001b[0m     \u001b[39mraise\u001b[39;00m \u001b[39mself\u001b[39m\u001b[39m.\u001b[39m_value\n",
            "File \u001b[0;32m/usr/lib/python3.8/multiprocessing/pool.py:537\u001b[0m, in \u001b[0;36mPool._handle_tasks\u001b[0;34m(taskqueue, put, outqueue, pool, cache)\u001b[0m\n\u001b[1;32m    <a href='file:///usr/lib/python3.8/multiprocessing/pool.py?line=534'>535</a>\u001b[0m     \u001b[39mbreak\u001b[39;00m\n\u001b[1;32m    <a href='file:///usr/lib/python3.8/multiprocessing/pool.py?line=535'>536</a>\u001b[0m \u001b[39mtry\u001b[39;00m:\n\u001b[0;32m--> <a href='file:///usr/lib/python3.8/multiprocessing/pool.py?line=536'>537</a>\u001b[0m     put(task)\n\u001b[1;32m    <a href='file:///usr/lib/python3.8/multiprocessing/pool.py?line=537'>538</a>\u001b[0m \u001b[39mexcept\u001b[39;00m \u001b[39mException\u001b[39;00m \u001b[39mas\u001b[39;00m e:\n\u001b[1;32m    <a href='file:///usr/lib/python3.8/multiprocessing/pool.py?line=538'>539</a>\u001b[0m     job, idx \u001b[39m=\u001b[39m task[:\u001b[39m2\u001b[39m]\n",
            "File \u001b[0;32m/usr/lib/python3.8/multiprocessing/connection.py:206\u001b[0m, in \u001b[0;36m_ConnectionBase.send\u001b[0;34m(self, obj)\u001b[0m\n\u001b[1;32m    <a href='file:///usr/lib/python3.8/multiprocessing/connection.py?line=203'>204</a>\u001b[0m \u001b[39mself\u001b[39m\u001b[39m.\u001b[39m_check_closed()\n\u001b[1;32m    <a href='file:///usr/lib/python3.8/multiprocessing/connection.py?line=204'>205</a>\u001b[0m \u001b[39mself\u001b[39m\u001b[39m.\u001b[39m_check_writable()\n\u001b[0;32m--> <a href='file:///usr/lib/python3.8/multiprocessing/connection.py?line=205'>206</a>\u001b[0m \u001b[39mself\u001b[39m\u001b[39m.\u001b[39m_send_bytes(_ForkingPickler\u001b[39m.\u001b[39;49mdumps(obj))\n",
            "File \u001b[0;32m/usr/lib/python3.8/multiprocessing/reduction.py:51\u001b[0m, in \u001b[0;36mForkingPickler.dumps\u001b[0;34m(cls, obj, protocol)\u001b[0m\n\u001b[1;32m     <a href='file:///usr/lib/python3.8/multiprocessing/reduction.py?line=47'>48</a>\u001b[0m \u001b[39m@classmethod\u001b[39m\n\u001b[1;32m     <a href='file:///usr/lib/python3.8/multiprocessing/reduction.py?line=48'>49</a>\u001b[0m \u001b[39mdef\u001b[39;00m \u001b[39mdumps\u001b[39m(\u001b[39mcls\u001b[39m, obj, protocol\u001b[39m=\u001b[39m\u001b[39mNone\u001b[39;00m):\n\u001b[1;32m     <a href='file:///usr/lib/python3.8/multiprocessing/reduction.py?line=49'>50</a>\u001b[0m     buf \u001b[39m=\u001b[39m io\u001b[39m.\u001b[39mBytesIO()\n\u001b[0;32m---> <a href='file:///usr/lib/python3.8/multiprocessing/reduction.py?line=50'>51</a>\u001b[0m     \u001b[39mcls\u001b[39;49m(buf, protocol)\u001b[39m.\u001b[39;49mdump(obj)\n\u001b[1;32m     <a href='file:///usr/lib/python3.8/multiprocessing/reduction.py?line=51'>52</a>\u001b[0m     \u001b[39mreturn\u001b[39;00m buf\u001b[39m.\u001b[39mgetbuffer()\n",
            "File \u001b[0;32m~/github/ChessBreaker/env/lib/python3.8/site-packages/keras/engine/training.py:324\u001b[0m, in \u001b[0;36mModel.__reduce__\u001b[0;34m(self)\u001b[0m\n\u001b[1;32m    <a href='file:///home/marcello/github/ChessBreaker/env/lib/python3.8/site-packages/keras/engine/training.py?line=320'>321</a>\u001b[0m \u001b[39mdef\u001b[39;00m \u001b[39m__reduce__\u001b[39m(\u001b[39mself\u001b[39m):\n\u001b[1;32m    <a href='file:///home/marcello/github/ChessBreaker/env/lib/python3.8/site-packages/keras/engine/training.py?line=321'>322</a>\u001b[0m   \u001b[39mif\u001b[39;00m \u001b[39mself\u001b[39m\u001b[39m.\u001b[39mbuilt:\n\u001b[1;32m    <a href='file:///home/marcello/github/ChessBreaker/env/lib/python3.8/site-packages/keras/engine/training.py?line=322'>323</a>\u001b[0m     \u001b[39mreturn\u001b[39;00m (pickle_utils\u001b[39m.\u001b[39mdeserialize_model_from_bytecode,\n\u001b[0;32m--> <a href='file:///home/marcello/github/ChessBreaker/env/lib/python3.8/site-packages/keras/engine/training.py?line=323'>324</a>\u001b[0m             pickle_utils\u001b[39m.\u001b[39;49mserialize_model_as_bytecode(\u001b[39mself\u001b[39;49m))\n\u001b[1;32m    <a href='file:///home/marcello/github/ChessBreaker/env/lib/python3.8/site-packages/keras/engine/training.py?line=324'>325</a>\u001b[0m   \u001b[39melse\u001b[39;00m:\n\u001b[1;32m    <a href='file:///home/marcello/github/ChessBreaker/env/lib/python3.8/site-packages/keras/engine/training.py?line=325'>326</a>\u001b[0m     \u001b[39m# SavedModel (and hence serialize_model_as_bytecode) only support\u001b[39;00m\n\u001b[1;32m    <a href='file:///home/marcello/github/ChessBreaker/env/lib/python3.8/site-packages/keras/engine/training.py?line=326'>327</a>\u001b[0m     \u001b[39m# built models, but if the model is not built,\u001b[39;00m\n\u001b[0;32m   (...)\u001b[0m\n\u001b[1;32m    <a href='file:///home/marcello/github/ChessBreaker/env/lib/python3.8/site-packages/keras/engine/training.py?line=330'>331</a>\u001b[0m     \u001b[39m# Thus we call up the superclass hierarchy to get an implementation of\u001b[39;00m\n\u001b[1;32m    <a href='file:///home/marcello/github/ChessBreaker/env/lib/python3.8/site-packages/keras/engine/training.py?line=331'>332</a>\u001b[0m     \u001b[39m# __reduce__ that can pickle this Model as a plain Python object.\u001b[39;00m\n\u001b[1;32m    <a href='file:///home/marcello/github/ChessBreaker/env/lib/python3.8/site-packages/keras/engine/training.py?line=332'>333</a>\u001b[0m     \u001b[39mreturn\u001b[39;00m \u001b[39msuper\u001b[39m(Model, \u001b[39mself\u001b[39m)\u001b[39m.\u001b[39m__reduce__()\n",
            "File \u001b[0;32m~/github/ChessBreaker/env/lib/python3.8/site-packages/keras/saving/pickle_utils.py:64\u001b[0m, in \u001b[0;36mserialize_model_as_bytecode\u001b[0;34m(model)\u001b[0m\n\u001b[1;32m     <a href='file:///home/marcello/github/ChessBreaker/env/lib/python3.8/site-packages/keras/saving/pickle_utils.py?line=53'>54</a>\u001b[0m \u001b[39m\"\"\"Convert a Keras Model into a bytecode representation for pickling.\u001b[39;00m\n\u001b[1;32m     <a href='file:///home/marcello/github/ChessBreaker/env/lib/python3.8/site-packages/keras/saving/pickle_utils.py?line=54'>55</a>\u001b[0m \n\u001b[1;32m     <a href='file:///home/marcello/github/ChessBreaker/env/lib/python3.8/site-packages/keras/saving/pickle_utils.py?line=55'>56</a>\u001b[0m \u001b[39mArgs:\u001b[39;00m\n\u001b[0;32m   (...)\u001b[0m\n\u001b[1;32m     <a href='file:///home/marcello/github/ChessBreaker/env/lib/python3.8/site-packages/keras/saving/pickle_utils.py?line=60'>61</a>\u001b[0m \u001b[39m        `deserialize_from_bytecode`.\u001b[39;00m\n\u001b[1;32m     <a href='file:///home/marcello/github/ChessBreaker/env/lib/python3.8/site-packages/keras/saving/pickle_utils.py?line=61'>62</a>\u001b[0m \u001b[39m\"\"\"\u001b[39;00m\n\u001b[1;32m     <a href='file:///home/marcello/github/ChessBreaker/env/lib/python3.8/site-packages/keras/saving/pickle_utils.py?line=62'>63</a>\u001b[0m temp_dir \u001b[39m=\u001b[39m \u001b[39mf\u001b[39m\u001b[39m\"\u001b[39m\u001b[39mram://\u001b[39m\u001b[39m{\u001b[39;00muuid\u001b[39m.\u001b[39muuid4()\u001b[39m}\u001b[39;00m\u001b[39m\"\u001b[39m\n\u001b[0;32m---> <a href='file:///home/marcello/github/ChessBreaker/env/lib/python3.8/site-packages/keras/saving/pickle_utils.py?line=63'>64</a>\u001b[0m model\u001b[39m.\u001b[39;49msave(temp_dir)\n\u001b[1;32m     <a href='file:///home/marcello/github/ChessBreaker/env/lib/python3.8/site-packages/keras/saving/pickle_utils.py?line=64'>65</a>\u001b[0m b \u001b[39m=\u001b[39m io\u001b[39m.\u001b[39mBytesIO()\n\u001b[1;32m     <a href='file:///home/marcello/github/ChessBreaker/env/lib/python3.8/site-packages/keras/saving/pickle_utils.py?line=65'>66</a>\u001b[0m \u001b[39mwith\u001b[39;00m tarfile\u001b[39m.\u001b[39mopen(fileobj\u001b[39m=\u001b[39mb, mode\u001b[39m=\u001b[39m\u001b[39m\"\u001b[39m\u001b[39mw\u001b[39m\u001b[39m\"\u001b[39m) \u001b[39mas\u001b[39;00m archive:\n",
            "File \u001b[0;32m~/github/ChessBreaker/env/lib/python3.8/site-packages/keras/utils/traceback_utils.py:67\u001b[0m, in \u001b[0;36mfilter_traceback.<locals>.error_handler\u001b[0;34m(*args, **kwargs)\u001b[0m\n\u001b[1;32m     <a href='file:///home/marcello/github/ChessBreaker/env/lib/python3.8/site-packages/keras/utils/traceback_utils.py?line=64'>65</a>\u001b[0m \u001b[39mexcept\u001b[39;00m \u001b[39mException\u001b[39;00m \u001b[39mas\u001b[39;00m e:  \u001b[39m# pylint: disable=broad-except\u001b[39;00m\n\u001b[1;32m     <a href='file:///home/marcello/github/ChessBreaker/env/lib/python3.8/site-packages/keras/utils/traceback_utils.py?line=65'>66</a>\u001b[0m   filtered_tb \u001b[39m=\u001b[39m _process_traceback_frames(e\u001b[39m.\u001b[39m__traceback__)\n\u001b[0;32m---> <a href='file:///home/marcello/github/ChessBreaker/env/lib/python3.8/site-packages/keras/utils/traceback_utils.py?line=66'>67</a>\u001b[0m   \u001b[39mraise\u001b[39;00m e\u001b[39m.\u001b[39mwith_traceback(filtered_tb) \u001b[39mfrom\u001b[39;00m \u001b[39mNone\u001b[39m\n\u001b[1;32m     <a href='file:///home/marcello/github/ChessBreaker/env/lib/python3.8/site-packages/keras/utils/traceback_utils.py?line=67'>68</a>\u001b[0m \u001b[39mfinally\u001b[39;00m:\n\u001b[1;32m     <a href='file:///home/marcello/github/ChessBreaker/env/lib/python3.8/site-packages/keras/utils/traceback_utils.py?line=68'>69</a>\u001b[0m   \u001b[39mdel\u001b[39;00m filtered_tb\n",
            "File \u001b[0;32m/tmp/__autograph_generated_fileopz8shmm.py:14\u001b[0m, in \u001b[0;36mouter_factory.<locals>.inner_factory.<locals>.tf___wrapped_model\u001b[0;34m(*args, **kwargs)\u001b[0m\n\u001b[1;32m     <a href='file:///tmp/__autograph_generated_fileopz8shmm.py?line=11'>12</a>\u001b[0m ag__\u001b[39m.\u001b[39mld(kwargs)[\u001b[39m'\u001b[39m\u001b[39mtraining\u001b[39m\u001b[39m'\u001b[39m] \u001b[39m=\u001b[39m \u001b[39mFalse\u001b[39;00m\n\u001b[1;32m     <a href='file:///tmp/__autograph_generated_fileopz8shmm.py?line=12'>13</a>\u001b[0m \u001b[39mwith\u001b[39;00m ag__\u001b[39m.\u001b[39mld(base_layer_utils)\u001b[39m.\u001b[39mcall_context()\u001b[39m.\u001b[39menter(ag__\u001b[39m.\u001b[39mld(model), inputs\u001b[39m=\u001b[39m\u001b[39mNone\u001b[39;00m, build_graph\u001b[39m=\u001b[39m\u001b[39mFalse\u001b[39;00m, training\u001b[39m=\u001b[39m\u001b[39mFalse\u001b[39;00m, saving\u001b[39m=\u001b[39m\u001b[39mTrue\u001b[39;00m):\n\u001b[0;32m---> <a href='file:///tmp/__autograph_generated_fileopz8shmm.py?line=13'>14</a>\u001b[0m     outputs \u001b[39m=\u001b[39m ag__\u001b[39m.\u001b[39mconverted_call(ag__\u001b[39m.\u001b[39mld(model), \u001b[39mtuple\u001b[39m(ag__\u001b[39m.\u001b[39mld(args)), \u001b[39mdict\u001b[39m(\u001b[39m*\u001b[39m\u001b[39m*\u001b[39mag__\u001b[39m.\u001b[39mld(kwargs)), fscope)\n\u001b[1;32m     <a href='file:///tmp/__autograph_generated_fileopz8shmm.py?line=14'>15</a>\u001b[0m output_names \u001b[39m=\u001b[39m ag__\u001b[39m.\u001b[39mld(model)\u001b[39m.\u001b[39moutput_names\n\u001b[1;32m     <a href='file:///tmp/__autograph_generated_fileopz8shmm.py?line=16'>17</a>\u001b[0m \u001b[39mdef\u001b[39;00m \u001b[39mget_state\u001b[39m():\n",
            "File \u001b[0;32m/tmp/__autograph_generated_filerat1vug5.py:10\u001b[0m, in \u001b[0;36mouter_factory.<locals>.inner_factory.<locals>.tf__call\u001b[0;34m(self, inputs)\u001b[0m\n\u001b[1;32m      <a href='file:///tmp/__autograph_generated_filerat1vug5.py?line=7'>8</a>\u001b[0m do_return \u001b[39m=\u001b[39m \u001b[39mFalse\u001b[39;00m\n\u001b[1;32m      <a href='file:///tmp/__autograph_generated_filerat1vug5.py?line=8'>9</a>\u001b[0m retval_ \u001b[39m=\u001b[39m ag__\u001b[39m.\u001b[39mUndefinedReturnValue()\n\u001b[0;32m---> <a href='file:///tmp/__autograph_generated_filerat1vug5.py?line=9'>10</a>\u001b[0m x \u001b[39m=\u001b[39m ag__\u001b[39m.\u001b[39mconverted_call(ag__\u001b[39m.\u001b[39mld(\u001b[39mself\u001b[39m)\u001b[39m.\u001b[39mblock_1, (ag__\u001b[39m.\u001b[39mld(inputs),), \u001b[39mNone\u001b[39;00m, fscope)\n\u001b[1;32m     <a href='file:///tmp/__autograph_generated_filerat1vug5.py?line=10'>11</a>\u001b[0m x \u001b[39m=\u001b[39m ag__\u001b[39m.\u001b[39mconverted_call(ag__\u001b[39m.\u001b[39mld(\u001b[39mself\u001b[39m)\u001b[39m.\u001b[39mblock_2, (ag__\u001b[39m.\u001b[39mld(x),), \u001b[39mNone\u001b[39;00m, fscope)\n\u001b[1;32m     <a href='file:///tmp/__autograph_generated_filerat1vug5.py?line=11'>12</a>\u001b[0m x \u001b[39m=\u001b[39m ag__\u001b[39m.\u001b[39mconverted_call(ag__\u001b[39m.\u001b[39mld(\u001b[39mself\u001b[39m)\u001b[39m.\u001b[39mblock_3, (ag__\u001b[39m.\u001b[39mld(x),), \u001b[39mNone\u001b[39;00m, fscope)\n",
            "File \u001b[0;32m/tmp/__autograph_generated_filevajs0euv.py:11\u001b[0m, in \u001b[0;36mouter_factory.<locals>.inner_factory.<locals>.tf__call\u001b[0;34m(self, inputs)\u001b[0m\n\u001b[1;32m      <a href='file:///tmp/__autograph_generated_filevajs0euv.py?line=8'>9</a>\u001b[0m retval_ \u001b[39m=\u001b[39m ag__\u001b[39m.\u001b[39mUndefinedReturnValue()\n\u001b[1;32m     <a href='file:///tmp/__autograph_generated_filevajs0euv.py?line=9'>10</a>\u001b[0m x \u001b[39m=\u001b[39m ag__\u001b[39m.\u001b[39mconverted_call(ag__\u001b[39m.\u001b[39mld(\u001b[39mself\u001b[39m)\u001b[39m.\u001b[39mconv_1, (ag__\u001b[39m.\u001b[39mld(inputs),), \u001b[39mNone\u001b[39;00m, fscope)\n\u001b[0;32m---> <a href='file:///tmp/__autograph_generated_filevajs0euv.py?line=10'>11</a>\u001b[0m x \u001b[39m=\u001b[39m ag__\u001b[39m.\u001b[39mconverted_call(ag__\u001b[39m.\u001b[39mconverted_call(ag__\u001b[39m.\u001b[39mld(layers)\u001b[39m.\u001b[39mBatchNormalization, (), \u001b[39mNone\u001b[39;00m, fscope), (ag__\u001b[39m.\u001b[39mld(x),), \u001b[39mNone\u001b[39;00m, fscope)\n\u001b[1;32m     <a href='file:///tmp/__autograph_generated_filevajs0euv.py?line=11'>12</a>\u001b[0m x \u001b[39m=\u001b[39m ag__\u001b[39m.\u001b[39mconverted_call(ag__\u001b[39m.\u001b[39mconverted_call(ag__\u001b[39m.\u001b[39mld(layers)\u001b[39m.\u001b[39mActivation, (\u001b[39m'\u001b[39m\u001b[39mgelu\u001b[39m\u001b[39m'\u001b[39m,), \u001b[39mNone\u001b[39;00m, fscope), (ag__\u001b[39m.\u001b[39mld(x),), \u001b[39mNone\u001b[39;00m, fscope)\n\u001b[1;32m     <a href='file:///tmp/__autograph_generated_filevajs0euv.py?line=12'>13</a>\u001b[0m x \u001b[39m=\u001b[39m ag__\u001b[39m.\u001b[39mconverted_call(ag__\u001b[39m.\u001b[39mld(\u001b[39mself\u001b[39m)\u001b[39m.\u001b[39mconv_2, (ag__\u001b[39m.\u001b[39mld(x),), \u001b[39mNone\u001b[39;00m, fscope)\n",
            "\u001b[0;31mValueError\u001b[0m: in user code:\n\n    File \"/home/marcello/github/ChessBreaker/env/lib/python3.8/site-packages/keras/saving/saving_utils.py\", line 138, in _wrapped_model  *\n        outputs = model(*args, **kwargs)\n    File \"/home/marcello/github/ChessBreaker/env/lib/python3.8/site-packages/keras/utils/traceback_utils.py\", line 67, in error_handler  **\n        raise e.with_traceback(filtered_tb) from None\n    File \"/tmp/__autograph_generated_filerat1vug5.py\", line 10, in tf__call\n        x = ag__.converted_call(ag__.ld(self).block_1, (ag__.ld(inputs),), None, fscope)\n    File \"/tmp/__autograph_generated_filevajs0euv.py\", line 11, in tf__call\n        x = ag__.converted_call(ag__.converted_call(ag__.ld(layers).BatchNormalization, (), None, fscope), (ag__.ld(x),), None, fscope)\n\n    ValueError: Exception encountered when calling layer \"res_net\" (type ResNet).\n    \n    in user code:\n    \n        File \"/home/marcello/github/ChessBreaker/model.py\", line 54, in call  *\n            x = self.block_1(inputs)\n        File \"/home/marcello/github/ChessBreaker/env/lib/python3.8/site-packages/keras/utils/traceback_utils.py\", line 67, in error_handler  **\n            raise e.with_traceback(filtered_tb) from None\n        File \"/tmp/__autograph_generated_filevajs0euv.py\", line 11, in tf__call\n            x = ag__.converted_call(ag__.converted_call(ag__.ld(layers).BatchNormalization, (), None, fscope), (ag__.ld(x),), None, fscope)\n    \n        ValueError: Exception encountered when calling layer \"ResNetBlock\" (type ResNetBlock).\n        \n        in user code:\n        \n            File \"/home/marcello/github/ChessBreaker/model.py\", line 21, in call  *\n                x = layers.BatchNormalization()(x)\n            File \"/home/marcello/github/ChessBreaker/env/lib/python3.8/site-packages/keras/utils/traceback_utils.py\", line 67, in error_handler  **\n                raise e.with_traceback(filtered_tb) from None\n        \n            ValueError: tf.function only supports singleton tf.Variables created on the first call. Make sure the tf.Variable is only created once or created outside tf.function. See https://www.tensorflow.org/guide/function#creating_tfvariables for more information.\n        \n        \n        Call arguments received by layer \"ResNetBlock\" (type ResNetBlock):\n          • inputs=tf.Tensor(shape=(None, 8, 8, 119), dtype=float32)\n    \n    \n    Call arguments received by layer \"res_net\" (type ResNet):\n      • inputs=tf.Tensor(shape=(None, 8, 8, 119), dtype=float32)\n"
          ]
        }
      ],
      "source": [
        "moves = complete_game(model)\n"
      ]
    },
    {
      "cell_type": "code",
      "execution_count": null,
      "metadata": {},
      "outputs": [],
      "source": [
        "moves2 = moves.copy()\n",
        "board = chess.Board()"
      ]
    },
    {
      "cell_type": "code",
      "execution_count": null,
      "metadata": {},
      "outputs": [
        {
          "ename": "IndexError",
          "evalue": "pop from empty list",
          "output_type": "error",
          "traceback": [
            "\u001b[0;31m---------------------------------------------------------------------------\u001b[0m",
            "\u001b[0;31mIndexError\u001b[0m                                Traceback (most recent call last)",
            "\u001b[1;32m/home/marcello/github/ChessBreaker/main.ipynb Cell 11'\u001b[0m in \u001b[0;36m<cell line: 1>\u001b[0;34m()\u001b[0m\n\u001b[0;32m----> <a href='vscode-notebook-cell:/home/marcello/github/ChessBreaker/main.ipynb#ch0000010?line=0'>1</a>\u001b[0m board\u001b[39m.\u001b[39mpush(moves2\u001b[39m.\u001b[39;49mpop(\u001b[39m0\u001b[39;49m))\n\u001b[1;32m      <a href='vscode-notebook-cell:/home/marcello/github/ChessBreaker/main.ipynb#ch0000010?line=1'>2</a>\u001b[0m \u001b[39mprint\u001b[39m(\u001b[39mlen\u001b[39m(moves2))\n\u001b[1;32m      <a href='vscode-notebook-cell:/home/marcello/github/ChessBreaker/main.ipynb#ch0000010?line=2'>3</a>\u001b[0m board\n",
            "\u001b[0;31mIndexError\u001b[0m: pop from empty list"
          ]
        }
      ],
      "source": [
        "board.push(moves2.pop(0))\n",
        "print(len(moves2))\n",
        "board"
      ]
    },
    {
      "cell_type": "code",
      "execution_count": null,
      "metadata": {},
      "outputs": [
        {
          "name": "stdout",
          "output_type": "stream",
          "text": [
            "{'board': Board('rnbqkbnr/pppppppp/8/8/8/8/PPPPPPPP/RNBQKBNR w KQkq - 0 1'), 'board_history': ['rnbqkbnr/pppppppp/8/8/8/8/PPPPPPPP/RNBQKBNR w KQkq'], 'planes': <tf.Tensor: shape=(8, 8, 119), dtype=float16, numpy=\n",
            "array([[[0., 0., 0., ..., 1., 1., 0.],\n",
            "        [0., 0., 0., ..., 1., 1., 0.],\n",
            "        [0., 0., 0., ..., 1., 1., 0.],\n",
            "        ...,\n",
            "        [0., 0., 0., ..., 1., 1., 0.],\n",
            "        [0., 0., 0., ..., 1., 1., 0.],\n",
            "        [0., 0., 0., ..., 1., 1., 0.]],\n",
            "\n",
            "       [[0., 0., 0., ..., 1., 1., 0.],\n",
            "        [0., 0., 0., ..., 1., 1., 0.],\n",
            "        [0., 0., 0., ..., 1., 1., 0.],\n",
            "        ...,\n",
            "        [0., 0., 0., ..., 1., 1., 0.],\n",
            "        [0., 0., 0., ..., 1., 1., 0.],\n",
            "        [0., 0., 0., ..., 1., 1., 0.]],\n",
            "\n",
            "       [[0., 0., 0., ..., 1., 1., 0.],\n",
            "        [0., 0., 0., ..., 1., 1., 0.],\n",
            "        [0., 0., 0., ..., 1., 1., 0.],\n",
            "        ...,\n",
            "        [0., 0., 0., ..., 1., 1., 0.],\n",
            "        [0., 0., 0., ..., 1., 1., 0.],\n",
            "        [0., 0., 0., ..., 1., 1., 0.]],\n",
            "\n",
            "       ...,\n",
            "\n",
            "       [[0., 0., 0., ..., 1., 1., 0.],\n",
            "        [0., 0., 0., ..., 1., 1., 0.],\n",
            "        [0., 0., 0., ..., 1., 1., 0.],\n",
            "        ...,\n",
            "        [0., 0., 0., ..., 1., 1., 0.],\n",
            "        [0., 0., 0., ..., 1., 1., 0.],\n",
            "        [0., 0., 0., ..., 1., 1., 0.]],\n",
            "\n",
            "       [[1., 0., 0., ..., 1., 1., 0.],\n",
            "        [1., 0., 0., ..., 1., 1., 0.],\n",
            "        [1., 0., 0., ..., 1., 1., 0.],\n",
            "        ...,\n",
            "        [1., 0., 0., ..., 1., 1., 0.],\n",
            "        [1., 0., 0., ..., 1., 1., 0.],\n",
            "        [1., 0., 0., ..., 1., 1., 0.]],\n",
            "\n",
            "       [[0., 0., 0., ..., 1., 1., 0.],\n",
            "        [0., 1., 0., ..., 1., 1., 0.],\n",
            "        [0., 0., 1., ..., 1., 1., 0.],\n",
            "        ...,\n",
            "        [0., 0., 1., ..., 1., 1., 0.],\n",
            "        [0., 1., 0., ..., 1., 1., 0.],\n",
            "        [0., 0., 0., ..., 1., 1., 0.]]], dtype=float16)>, 'action_value': 0, 'name': ''}\n"
          ]
        }
      ],
      "source": [
        "# shared memory try\n",
        "\n",
        "import pickle\n",
        "from anytree.exporter import DictExporter\n",
        "exporter = DictExporter()\n",
        "\n",
        "board = chess.Board()\n",
        "board_history = [board.fen()[:-6]]                        \n",
        "\n",
        "root_node = MyNode(\n",
        "    \"\",                                                  \n",
        "    board = board,\n",
        "    board_history = board_history,\n",
        "    planes = update_planes(None, board, board_history),\n",
        "    action_value=0)\n",
        "\n",
        "print(exporter.export(root_node))"
      ]
    },
    {
      "cell_type": "code",
      "execution_count": null,
      "metadata": {},
      "outputs": [
        {
          "ename": "TypeError",
          "evalue": "this type has no size",
          "output_type": "error",
          "traceback": [
            "\u001b[0;31m---------------------------------------------------------------------------\u001b[0m",
            "\u001b[0;31mTypeError\u001b[0m                                 Traceback (most recent call last)",
            "\u001b[1;32m/home/marcello/github/ChessBreaker/main.ipynb Cell 8'\u001b[0m in \u001b[0;36m<cell line: 29>\u001b[0;34m()\u001b[0m\n\u001b[1;32m     <a href='vscode-notebook-cell:/home/marcello/github/ChessBreaker/main.ipynb#ch0000017?line=19'>20</a>\u001b[0m     \u001b[39mprint\u001b[39m(shared_root)\n\u001b[1;32m     <a href='vscode-notebook-cell:/home/marcello/github/ChessBreaker/main.ipynb#ch0000017?line=21'>22</a>\u001b[0m     \u001b[39m# with multiprocessing.Pool(PROCESSES) as pool:\u001b[39;00m\n\u001b[1;32m     <a href='vscode-notebook-cell:/home/marcello/github/ChessBreaker/main.ipynb#ch0000017?line=22'>23</a>\u001b[0m     \u001b[39m#     params = [(1, ), (2, ), (3, ), (4, )]\u001b[39;00m\n\u001b[1;32m     <a href='vscode-notebook-cell:/home/marcello/github/ChessBreaker/main.ipynb#ch0000017?line=23'>24</a>\u001b[0m     \u001b[39m#     results = [pool.apply_async(double, p) for p in params]\u001b[39;00m\n\u001b[1;32m     <a href='vscode-notebook-cell:/home/marcello/github/ChessBreaker/main.ipynb#ch0000017?line=24'>25</a>\u001b[0m \n\u001b[1;32m     <a href='vscode-notebook-cell:/home/marcello/github/ChessBreaker/main.ipynb#ch0000017?line=25'>26</a>\u001b[0m     \u001b[39m#     for r in results:\u001b[39;00m\n\u001b[1;32m     <a href='vscode-notebook-cell:/home/marcello/github/ChessBreaker/main.ipynb#ch0000017?line=26'>27</a>\u001b[0m     \u001b[39m#         print('\\t', r.get())\u001b[39;00m\n\u001b[0;32m---> <a href='vscode-notebook-cell:/home/marcello/github/ChessBreaker/main.ipynb#ch0000017?line=28'>29</a>\u001b[0m driver_func()\n",
            "\u001b[1;32m/home/marcello/github/ChessBreaker/main.ipynb Cell 8'\u001b[0m in \u001b[0;36mdriver_func\u001b[0;34m()\u001b[0m\n\u001b[1;32m      <a href='vscode-notebook-cell:/home/marcello/github/ChessBreaker/main.ipynb#ch0000017?line=8'>9</a>\u001b[0m board_history \u001b[39m=\u001b[39m [board\u001b[39m.\u001b[39mfen()[:\u001b[39m-\u001b[39m\u001b[39m6\u001b[39m]]                           \u001b[39m# we remove the \"en passant\", \"halfmove clock\" and \"fullmove number\" from the fen --> position will be identical even if those values differ\u001b[39;00m\n\u001b[1;32m     <a href='vscode-notebook-cell:/home/marcello/github/ChessBreaker/main.ipynb#ch0000017?line=10'>11</a>\u001b[0m root_node \u001b[39m=\u001b[39m MyNode(\n\u001b[1;32m     <a href='vscode-notebook-cell:/home/marcello/github/ChessBreaker/main.ipynb#ch0000017?line=11'>12</a>\u001b[0m     \u001b[39m\"\u001b[39m\u001b[39m\"\u001b[39m,                                                     \u001b[39m# no name needed for initial position\u001b[39;00m\n\u001b[1;32m     <a href='vscode-notebook-cell:/home/marcello/github/ChessBreaker/main.ipynb#ch0000017?line=12'>13</a>\u001b[0m     board \u001b[39m=\u001b[39m board,\n\u001b[1;32m     <a href='vscode-notebook-cell:/home/marcello/github/ChessBreaker/main.ipynb#ch0000017?line=13'>14</a>\u001b[0m     board_history \u001b[39m=\u001b[39m board_history,\n\u001b[1;32m     <a href='vscode-notebook-cell:/home/marcello/github/ChessBreaker/main.ipynb#ch0000017?line=14'>15</a>\u001b[0m     planes \u001b[39m=\u001b[39m update_planes(\u001b[39mNone\u001b[39;00m, board, board_history),    \u001b[39m# start from empty planes and fill them (usually you need previous planes to fill them)\u001b[39;00m\n\u001b[1;32m     <a href='vscode-notebook-cell:/home/marcello/github/ChessBreaker/main.ipynb#ch0000017?line=15'>16</a>\u001b[0m     action_value\u001b[39m=\u001b[39m\u001b[39m0\u001b[39m)\n\u001b[0;32m---> <a href='vscode-notebook-cell:/home/marcello/github/ChessBreaker/main.ipynb#ch0000017?line=17'>18</a>\u001b[0m shared_root \u001b[39m=\u001b[39m multiprocessing\u001b[39m.\u001b[39;49msharedctypes\u001b[39m.\u001b[39;49mcopy(root_node)\n\u001b[1;32m     <a href='vscode-notebook-cell:/home/marcello/github/ChessBreaker/main.ipynb#ch0000017?line=19'>20</a>\u001b[0m \u001b[39mprint\u001b[39m(shared_root)\n",
            "File \u001b[0;32m/usr/lib/python3.8/multiprocessing/sharedctypes.py:99\u001b[0m, in \u001b[0;36mcopy\u001b[0;34m(obj)\u001b[0m\n\u001b[1;32m     <a href='file:///usr/lib/python3.8/multiprocessing/sharedctypes.py?line=97'>98</a>\u001b[0m \u001b[39mdef\u001b[39;00m \u001b[39mcopy\u001b[39m(obj):\n\u001b[0;32m---> <a href='file:///usr/lib/python3.8/multiprocessing/sharedctypes.py?line=98'>99</a>\u001b[0m     new_obj \u001b[39m=\u001b[39m _new_value(\u001b[39mtype\u001b[39;49m(obj))\n\u001b[1;32m    <a href='file:///usr/lib/python3.8/multiprocessing/sharedctypes.py?line=99'>100</a>\u001b[0m     ctypes\u001b[39m.\u001b[39mpointer(new_obj)[\u001b[39m0\u001b[39m] \u001b[39m=\u001b[39m obj\n\u001b[1;32m    <a href='file:///usr/lib/python3.8/multiprocessing/sharedctypes.py?line=100'>101</a>\u001b[0m     \u001b[39mreturn\u001b[39;00m new_obj\n",
            "File \u001b[0;32m/usr/lib/python3.8/multiprocessing/sharedctypes.py:40\u001b[0m, in \u001b[0;36m_new_value\u001b[0;34m(type_)\u001b[0m\n\u001b[1;32m     <a href='file:///usr/lib/python3.8/multiprocessing/sharedctypes.py?line=38'>39</a>\u001b[0m \u001b[39mdef\u001b[39;00m \u001b[39m_new_value\u001b[39m(type_):\n\u001b[0;32m---> <a href='file:///usr/lib/python3.8/multiprocessing/sharedctypes.py?line=39'>40</a>\u001b[0m     size \u001b[39m=\u001b[39m ctypes\u001b[39m.\u001b[39;49msizeof(type_)\n\u001b[1;32m     <a href='file:///usr/lib/python3.8/multiprocessing/sharedctypes.py?line=40'>41</a>\u001b[0m     wrapper \u001b[39m=\u001b[39m heap\u001b[39m.\u001b[39mBufferWrapper(size)\n\u001b[1;32m     <a href='file:///usr/lib/python3.8/multiprocessing/sharedctypes.py?line=41'>42</a>\u001b[0m     \u001b[39mreturn\u001b[39;00m rebuild_ctype(type_, wrapper, \u001b[39mNone\u001b[39;00m)\n",
            "\u001b[0;31mTypeError\u001b[0m: this type has no size"
          ]
        }
      ],
      "source": [
        "import multiprocessing\n",
        "\n",
        "def double(a):\n",
        "    return a * 2\n",
        "\n",
        "def driver_func():\n",
        "    PROCESSES = 4\n",
        "    board = chess.Board()\n",
        "    board_history = [board.fen()[:-6]]                           # we remove the \"en passant\", \"halfmove clock\" and \"fullmove number\" from the fen --> position will be identical even if those values differ\n",
        "    \n",
        "    root_node = MyNode(\n",
        "        \"\",                                                     # no name needed for initial position\n",
        "        board = board,\n",
        "        board_history = board_history,\n",
        "        planes = update_planes(None, board, board_history),    # start from empty planes and fill them (usually you need previous planes to fill them)\n",
        "        action_value=0)\n",
        "    \n",
        "    shared_root = multiprocessing.sharedctypes.copy(root_node)\n",
        "\n",
        "    print(shared_root)\n",
        "\n",
        "    # with multiprocessing.Pool(PROCESSES) as pool:\n",
        "    #     params = [(1, ), (2, ), (3, ), (4, )]\n",
        "    #     results = [pool.apply_async(double, p) for p in params]\n",
        "\n",
        "    #     for r in results:\n",
        "    #         print('\\t', r.get())\n",
        "\n",
        "driver_func()"
      ]
    },
    {
      "cell_type": "code",
      "execution_count": null,
      "metadata": {},
      "outputs": [],
      "source": [
        "checkmate_list = [\n",
        "    \"e2e4\",\n",
        "    \"a7a6\",\n",
        "    \"d1f3\",\n",
        "    \"a6a5\",\n",
        "    \"f1c4\",\n",
        "    \"a5a4\",\n",
        "    \"f3f7\"\n",
        "]"
      ]
    },
    {
      "cell_type": "code",
      "execution_count": null,
      "metadata": {},
      "outputs": [
        {
          "ename": "ValueError",
          "evalue": "illegal uci: 'e2e4' in rnbqkbnr/pppppppp/8/8/8/4P3/PPPP1PPP/RNBQKBNR b KQkq - 0 1",
          "output_type": "error",
          "traceback": [
            "\u001b[0;31m---------------------------------------------------------------------------\u001b[0m",
            "\u001b[0;31mValueError\u001b[0m                                Traceback (most recent call last)",
            "\u001b[1;32m/home/marcello/github/ChessBreaker/main.ipynb Cell 13'\u001b[0m in \u001b[0;36m<cell line: 1>\u001b[0;34m()\u001b[0m\n\u001b[0;32m----> <a href='vscode-notebook-cell:/home/marcello/github/ChessBreaker/main.ipynb#ch0000012?line=0'>1</a>\u001b[0m board\u001b[39m.\u001b[39;49mpush_uci(checkmate_list\u001b[39m.\u001b[39;49mpop(\u001b[39m0\u001b[39;49m))\n\u001b[1;32m      <a href='vscode-notebook-cell:/home/marcello/github/ChessBreaker/main.ipynb#ch0000012?line=1'>2</a>\u001b[0m board\n",
            "File \u001b[0;32m~/github/ChessBreaker/env/lib/python3.8/site-packages/chess/__init__.py:3087\u001b[0m, in \u001b[0;36mBoard.push_uci\u001b[0;34m(self, uci)\u001b[0m\n\u001b[1;32m   <a href='file:///home/marcello/github/ChessBreaker/env/lib/python3.8/site-packages/chess/__init__.py?line=3077'>3078</a>\u001b[0m \u001b[39mdef\u001b[39;00m \u001b[39mpush_uci\u001b[39m(\u001b[39mself\u001b[39m, uci: \u001b[39mstr\u001b[39m) \u001b[39m-\u001b[39m\u001b[39m>\u001b[39m Move:\n\u001b[1;32m   <a href='file:///home/marcello/github/ChessBreaker/env/lib/python3.8/site-packages/chess/__init__.py?line=3078'>3079</a>\u001b[0m     \u001b[39m\"\"\"\u001b[39;00m\n\u001b[1;32m   <a href='file:///home/marcello/github/ChessBreaker/env/lib/python3.8/site-packages/chess/__init__.py?line=3079'>3080</a>\u001b[0m \u001b[39m    Parses a move in UCI notation and puts it on the move stack.\u001b[39;00m\n\u001b[1;32m   <a href='file:///home/marcello/github/ChessBreaker/env/lib/python3.8/site-packages/chess/__init__.py?line=3080'>3081</a>\u001b[0m \n\u001b[0;32m   (...)\u001b[0m\n\u001b[1;32m   <a href='file:///home/marcello/github/ChessBreaker/env/lib/python3.8/site-packages/chess/__init__.py?line=3084'>3085</a>\u001b[0m \u001b[39m        current position (but not a null move).\u001b[39;00m\n\u001b[1;32m   <a href='file:///home/marcello/github/ChessBreaker/env/lib/python3.8/site-packages/chess/__init__.py?line=3085'>3086</a>\u001b[0m \u001b[39m    \"\"\"\u001b[39;00m\n\u001b[0;32m-> <a href='file:///home/marcello/github/ChessBreaker/env/lib/python3.8/site-packages/chess/__init__.py?line=3086'>3087</a>\u001b[0m     move \u001b[39m=\u001b[39m \u001b[39mself\u001b[39;49m\u001b[39m.\u001b[39;49mparse_uci(uci)\n\u001b[1;32m   <a href='file:///home/marcello/github/ChessBreaker/env/lib/python3.8/site-packages/chess/__init__.py?line=3087'>3088</a>\u001b[0m     \u001b[39mself\u001b[39m\u001b[39m.\u001b[39mpush(move)\n\u001b[1;32m   <a href='file:///home/marcello/github/ChessBreaker/env/lib/python3.8/site-packages/chess/__init__.py?line=3088'>3089</a>\u001b[0m     \u001b[39mreturn\u001b[39;00m move\n",
            "File \u001b[0;32m~/github/ChessBreaker/env/lib/python3.8/site-packages/chess/__init__.py:3074\u001b[0m, in \u001b[0;36mBoard.parse_uci\u001b[0;34m(self, uci)\u001b[0m\n\u001b[1;32m   <a href='file:///home/marcello/github/ChessBreaker/env/lib/python3.8/site-packages/chess/__init__.py?line=3070'>3071</a>\u001b[0m move \u001b[39m=\u001b[39m \u001b[39mself\u001b[39m\u001b[39m.\u001b[39m_from_chess960(\u001b[39mself\u001b[39m\u001b[39m.\u001b[39mchess960, move\u001b[39m.\u001b[39mfrom_square, move\u001b[39m.\u001b[39mto_square, move\u001b[39m.\u001b[39mpromotion, move\u001b[39m.\u001b[39mdrop)\n\u001b[1;32m   <a href='file:///home/marcello/github/ChessBreaker/env/lib/python3.8/site-packages/chess/__init__.py?line=3072'>3073</a>\u001b[0m \u001b[39mif\u001b[39;00m \u001b[39mnot\u001b[39;00m \u001b[39mself\u001b[39m\u001b[39m.\u001b[39mis_legal(move):\n\u001b[0;32m-> <a href='file:///home/marcello/github/ChessBreaker/env/lib/python3.8/site-packages/chess/__init__.py?line=3073'>3074</a>\u001b[0m     \u001b[39mraise\u001b[39;00m \u001b[39mValueError\u001b[39;00m(\u001b[39mf\u001b[39m\u001b[39m\"\u001b[39m\u001b[39millegal uci: \u001b[39m\u001b[39m{\u001b[39;00muci\u001b[39m!r}\u001b[39;00m\u001b[39m in \u001b[39m\u001b[39m{\u001b[39;00m\u001b[39mself\u001b[39m\u001b[39m.\u001b[39mfen()\u001b[39m}\u001b[39;00m\u001b[39m\"\u001b[39m)\n\u001b[1;32m   <a href='file:///home/marcello/github/ChessBreaker/env/lib/python3.8/site-packages/chess/__init__.py?line=3075'>3076</a>\u001b[0m \u001b[39mreturn\u001b[39;00m move\n",
            "\u001b[0;31mValueError\u001b[0m: illegal uci: 'e2e4' in rnbqkbnr/pppppppp/8/8/8/4P3/PPPP1PPP/RNBQKBNR b KQkq - 0 1"
          ]
        }
      ],
      "source": [
        "board.push_uci(checkmate_list.pop(0))\n",
        "board"
      ]
    },
    {
      "cell_type": "code",
      "execution_count": null,
      "metadata": {},
      "outputs": [
        {
          "name": "stdout",
          "output_type": "stream",
          "text": [
            "20\n",
            "None\n",
            "True\n"
          ]
        }
      ],
      "source": [
        "print(len(list(board.legal_moves)))\n",
        "print(board.outcome())\n",
        "print(board.turn)"
      ]
    }
  ],
  "metadata": {
    "colab": {
      "authorship_tag": "ABX9TyMu73IMlerhIT1uChZ4Lk90",
      "include_colab_link": true,
      "name": "Untitled7.ipynb",
      "provenance": []
    },
    "kernelspec": {
      "display_name": "env",
      "language": "python",
      "name": "env"
    },
    "language_info": {
      "codemirror_mode": {
        "name": "ipython",
        "version": 3
      },
      "file_extension": ".py",
      "mimetype": "text/x-python",
      "name": "python",
      "nbconvert_exporter": "python",
      "pygments_lexer": "ipython3",
      "version": "3.8.10"
    }
  },
  "nbformat": 4,
  "nbformat_minor": 0
}
