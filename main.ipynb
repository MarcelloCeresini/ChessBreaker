{
  "nbformat": 4,
  "nbformat_minor": 0,
  "metadata": {
    "colab": {
      "name": "Untitled7.ipynb",
      "provenance": [],
      "authorship_tag": "ABX9TyO+FQjIK0bD9YPjUkZG/IxG",
      "include_colab_link": true
    },
    "kernelspec": {
      "name": "python3",
      "display_name": "Python 3"
    },
    "language_info": {
      "name": "python"
    }
  },
  "cells": [
    {
      "cell_type": "markdown",
      "metadata": {
        "id": "view-in-github",
        "colab_type": "text"
      },
      "source": [
        "<a href=\"https://colab.research.google.com/github/MarcelloCeresini/ChessBreaker/blob/main/main.ipynb\" target=\"_parent\"><img src=\"https://colab.research.google.com/assets/colab-badge.svg\" alt=\"Open In Colab\"/></a>"
      ]
    },
    {
      "cell_type": "code",
      "source": [
        "username = 'MarcelloCeresini'\n",
        "repository = 'ChessBreaker'"
      ],
      "metadata": {
        "id": "j2iWAxgCHN7z"
      },
      "execution_count": 1,
      "outputs": []
    },
    {
      "cell_type": "code",
      "source": [
        "# COLAB ONLY CELLS\n",
        "try:\n",
        "    import google.colab\n",
        "    IN_COLAB = True\n",
        "    !nvidia-smi             # Check which GPU has been chosen for us\n",
        "    !rm -rf logs\n",
        "    #from google.colab import drive\n",
        "    #drive.mount('/content/drive')\n",
        "    #%cd /content/drive/MyDrive/GitHub/\n",
        "    !git clone https://github.com/{username}/{repository}.git\n",
        "    %cd {repository}\n",
        "    %ls\n",
        "except:\n",
        "    IN_COLAB = False"
      ],
      "metadata": {
        "colab": {
          "base_uri": "https://localhost:8080/"
        },
        "id": "YG5cfeYvHhdU",
        "outputId": "1ac21057-33c4-4746-bf43-61387a8d797a"
      },
      "execution_count": 2,
      "outputs": [
        {
          "output_type": "stream",
          "name": "stdout",
          "text": [
            "NVIDIA-SMI has failed because it couldn't communicate with the NVIDIA driver. Make sure that the latest NVIDIA driver is installed and running.\n",
            "\n",
            "Cloning into 'ChessBreaker'...\n",
            "remote: Enumerating objects: 49, done.\u001b[K\n",
            "remote: Counting objects: 100% (49/49), done.\u001b[K\n",
            "remote: Compressing objects: 100% (47/47), done.\u001b[K\n",
            "remote: Total 49 (delta 24), reused 0 (delta 0), pack-reused 0\u001b[K\n",
            "Unpacking objects: 100% (49/49), done.\n",
            "/content/ChessBreaker\n",
            "config.py  main.ipynb  README.md  utils.py\n"
          ]
        }
      ]
    },
    {
      "cell_type": "code",
      "execution_count": 3,
      "metadata": {
        "id": "5qDwSWUnXcjn",
        "colab": {
          "base_uri": "https://localhost:8080/",
          "height": 131
        },
        "outputId": "3834220a-fdc9-4d25-9223-5c4f2c37cc37"
      },
      "outputs": [
        {
          "output_type": "error",
          "ename": "IndentationError",
          "evalue": "ignored",
          "traceback": [
            "\u001b[0;36m  File \u001b[0;32m\"/content/ChessBreaker/utils.py\"\u001b[0;36m, line \u001b[0;32m62\u001b[0m\n\u001b[0;31m    def outcome(res):\u001b[0m\n\u001b[0m                     ^\u001b[0m\n\u001b[0;31mIndentationError\u001b[0m\u001b[0;31m:\u001b[0m unindent does not match any outer indentation level\n"
          ]
        }
      ],
      "source": [
        "import tensorflow as tf\n",
        "import chess\n",
        "\n",
        "from utils import plane_dict\n",
        "from config import Config\n",
        "\n",
        "conf = Config()\n",
        "board = chess.Board()\n",
        "\n",
        "legal_moves = board.legal_moves\n",
        "print(legal_moves)\n"
      ]
    },
    {
      "cell_type": "code",
      "source": [
        "def uniform_tensor(x):\n",
        "    return tf.fill(conf.BOARD_SHAPE, x)\n",
        "\n",
        "def normal_input_planes(board):\n",
        "    normal_planes = tf.zeros((*conf.BOARD_SHAPE, (conf.N_PIECE_TYPES+1)*conf.PAST_TIMESTEPS*2), dtype=tf.dtypes.int8) # adding 1 plane for repetition counter for each timestep for each player\n",
        "    ###### to add planes here\n",
        "    tf.cast(\n",
        "        \n",
        "    )\n",
        "def special_input_planes(board):\n",
        "    return tf.vectorized_map( \n",
        "            uniform_tensor, \n",
        "            [\n",
        "                bool(board.Turn),\n",
        "                board.fullmove_number,\n",
        "                bool(board.has_kingside_castling_rights(True)),   # True = White\n",
        "                bool(board.has_queenside_castling_rights(True)),\n",
        "                bool(board.has_kingside_castling_rights(False)),  # False = Black\n",
        "                bool(board.has_queenside_castling_rights(False)),\n",
        "                board.halfmove_clock\n",
        "            ]\n",
        "        )"
      ],
      "metadata": {
        "id": "W3TOlR3jMn4v"
      },
      "execution_count": null,
      "outputs": []
    },
    {
      "cell_type": "code",
      "source": [
        "def training_loop():\n",
        "    "
      ],
      "metadata": {
        "id": "he-7mTJpvr0V"
      },
      "execution_count": null,
      "outputs": []
    }
  ]
}