{
 "cells": [
  {
   "cell_type": "code",
   "execution_count": 10,
   "metadata": {},
   "outputs": [
    {
     "name": "stdout",
     "output_type": "stream",
     "text": [
      "<class 'chess.pgn.ChildNode'>\n",
      "[Move.from_uci('c2c4'), Move.from_uci('c7c5'), Move.from_uci('g2g3'), Move.from_uci('b8c6'), Move.from_uci('f1g2'), Move.from_uci('g8f6'), Move.from_uci('b1c3'), Move.from_uci('d7d6'), Move.from_uci('d2d3'), Move.from_uci('c8d7'), Move.from_uci('g1f3'), Move.from_uci('g7g6'), Move.from_uci('e1g1'), Move.from_uci('f8g7'), Move.from_uci('c1g5'), Move.from_uci('e8g8'), Move.from_uci('a1b1'), Move.from_uci('a8b8'), Move.from_uci('a2a3'), Move.from_uci('a7a5'), Move.from_uci('g5f6'), Move.from_uci('g7f6'), Move.from_uci('c3d5'), Move.from_uci('f6g7'), Move.from_uci('b2b4'), Move.from_uci('a5b4'), Move.from_uci('a3b4'), Move.from_uci('e7e6'), Move.from_uci('b4b5'), Move.from_uci('e6d5'), Move.from_uci('b5c6'), Move.from_uci('b7c6'), Move.from_uci('b1b8'), Move.from_uci('d8b8'), Move.from_uci('d1a4'), Move.from_uci('d5c4'), Move.from_uci('d3c4'), Move.from_uci('b8b4'), Move.from_uci('a4a6'), Move.from_uci('d6d5'), Move.from_uci('c4d5'), Move.from_uci('c6d5'), Move.from_uci('a6d6'), Move.from_uci('d7e6'), Move.from_uci('f3g5'), Move.from_uci('b4b8'), Move.from_uci('d6c5'), Move.from_uci('f8c8'), Move.from_uci('c5e3'), Move.from_uci('d5d4'), Move.from_uci('e3e4'), Move.from_uci('e6f5'), Move.from_uci('e4e7'), Move.from_uci('b8c7'), Move.from_uci('e7c7'), Move.from_uci('c8c7'), Move.from_uci('f1d1'), Move.from_uci('h7h6'), Move.from_uci('g5e4'), Move.from_uci('c7c2'), Move.from_uci('e2e3'), Move.from_uci('d4e3'), Move.from_uci('f2e3'), Move.from_uci('f5g4'), Move.from_uci('d1d2'), Move.from_uci('c2c1'), Move.from_uci('g1f2'), Move.from_uci('f7f5'), Move.from_uci('d2d8'), Move.from_uci('g8h7'), Move.from_uci('e4d2'), Move.from_uci('g7c3'), Move.from_uci('d8d7'), Move.from_uci('h7h8'), Move.from_uci('d7d8'), Move.from_uci('h8g7'), Move.from_uci('d8d7'), Move.from_uci('g7f8'), Move.from_uci('g2f3'), Move.from_uci('c1c2'), Move.from_uci('f3g4'), Move.from_uci('c3d2'), Move.from_uci('g4e2'), Move.from_uci('d2b4'), Move.from_uci('f2f3'), Move.from_uci('b4e7'), Move.from_uci('h2h4'), Move.from_uci('f8e8'), Move.from_uci('e2b5'), Move.from_uci('e8f8'), Move.from_uci('h4h5'), Move.from_uci('g6g5'), Move.from_uci('b5d3'), Move.from_uci('c2c5'), Move.from_uci('g3g4'), Move.from_uci('f5g4'), Move.from_uci('f3g4'), Move.from_uci('f8e8'), Move.from_uci('d7b7'), Move.from_uci('e8f7'), Move.from_uci('d3g6'), Move.from_uci('f7f6'), Move.from_uci('b7b6'), Move.from_uci('f6g7'), Move.from_uci('e3e4'), Move.from_uci('c5c1'), Move.from_uci('b6b7'), Move.from_uci('g7f6'), Move.from_uci('e4e5'), Move.from_uci('f6e6'), Move.from_uci('g6f5'), Move.from_uci('e6f7'), Move.from_uci('e5e6'), Move.from_uci('f7f6'), Move.from_uci('b7b5'), Move.from_uci('c1g1'), Move.from_uci('g4h3'), Move.from_uci('g1h1'), Move.from_uci('h3g2'), Move.from_uci('h1h5'), Move.from_uci('f5g4'), Move.from_uci('h5h4'), Move.from_uci('b5f5'), Move.from_uci('f6g6'), Move.from_uci('g2f3'), Move.from_uci('h4g4'), Move.from_uci('f3g4'), Move.from_uci('h6h5'), Move.from_uci('g4f3'), Move.from_uci('g6f5'), Move.from_uci('f3e3'), Move.from_uci('f5e6'), Move.from_uci('e3f3'), Move.from_uci('e6f5'), Move.from_uci('f3g3'), Move.from_uci('g5g4'), Move.from_uci('g3g2'), Move.from_uci('h5h4'), Move.from_uci('g2h1'), Move.from_uci('h4h3'), Move.from_uci('h1g1'), Move.from_uci('e7d6'), Move.from_uci('g1h1'), Move.from_uci('g4g3'), Move.from_uci('h1g1'), Move.from_uci('g3g2'), Move.from_uci('g1f2'), Move.from_uci('f5g4')]\n"
     ]
    }
   ],
   "source": [
    "import os, glob, tqdm, chess.pgn, utils\n",
    "import numpy as np\n",
    "\n",
    "conf = utils.Config()\n",
    "\n",
    "inputs = []\n",
    "outputs = []\n",
    "\n",
    "path = '/home/marcello/github/ChessBreaker/data/Database'\n",
    "for filename in glob.glob(os.path.join(path, '*.pgn')):\n",
    "    with open(os.path.join(os.getcwd(), filename), 'r') as pgn:\n",
    "        for game in chess.pgn.read_game(pgn):\n",
    "            whole_game_moves = game.game().mainline_moves()\n",
    "            board = chess.Board()\n",
    "            board_history = board.fen()[:-6]\n",
    "            planes = None\n",
    "            output_array = np.zeros(*conf.BOARD_SHAPE, conf.N_PLANES)\n",
    "\n",
    "            for move in whole_game_moves:\n",
    "                # the input is the PREVIOUS board\n",
    "                inputs.append(update_planes(planes, board, board_history))\n",
    "                \n",
    "                # the output is the move from that position\n",
    "                mask = utils.mask_moves(move)\n",
    "                output_array[mask[0], mask[1], mask[2]] = 1\n",
    "                outputs.append(output_array)\n",
    "                output_array[mask[0], mask[1], mask[2]] = 0\n",
    "                \n",
    "                # then you actually push the move preparing for next turn\n",
    "                board.push(move)\n",
    "                board_history.append(board.fen()[:-6])\n",
    "\n",
    "\n",
    "\n",
    "\n",
    "\n",
    "            print(type(game))\n",
    "            print([move for move in whole_game_moves])\n",
    "            break\n",
    "        break\n",
    "    break\n",
    "\n",
    "\n",
    "root_board_fen = root_node.board.fen()\n",
    "\n",
    "new_board.set_fen(root_board_fen)\n",
    "\n",
    "                            \n",
    "new_board_history = root_node.board_history.copy()                                      # and board history! (copy because list are pointers)\n",
    "new_board_history.append(new_board.fen()[:-6])\n",
    "\n",
    "planes = update_planes(root_node.planes, new_board, new_board_history)\n",
    "\n",
    "MyNode(\n",
    "    move.uci(), \n",
    "    parent = root_node,                                                                 # very important to build the tree\n",
    "    prior = prior,                                                                      # prior is the \"initial\" state_value of a node\n",
    "    visit_count = 0,                                                                    # initialize visit_count to 0\n",
    "    action_value = 0,\n",
    "    board = new_board, \n",
    "    board_history = new_board_history,                                                  \n",
    "    planes = planes             # update the planes --> each node stores its input planes!\n",
    ")"
   ]
  }
 ],
 "metadata": {
  "kernelspec": {
   "display_name": "Python 3.8.10 ('env': venv)",
   "language": "python",
   "name": "python3"
  },
  "language_info": {
   "codemirror_mode": {
    "name": "ipython",
    "version": 3
   },
   "file_extension": ".py",
   "mimetype": "text/x-python",
   "name": "python",
   "nbconvert_exporter": "python",
   "pygments_lexer": "ipython3",
   "version": "3.8.10"
  },
  "orig_nbformat": 4,
  "vscode": {
   "interpreter": {
    "hash": "6ff546d1c5a7064c8e32c19edaef78491647a0db70d1b75d69edec23d383707d"
   }
  }
 },
 "nbformat": 4,
 "nbformat_minor": 2
}
