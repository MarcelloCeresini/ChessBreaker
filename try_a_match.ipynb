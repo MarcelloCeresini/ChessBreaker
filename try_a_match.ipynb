{
 "cells": [
  {
   "cell_type": "code",
   "execution_count": 3,
   "metadata": {},
   "outputs": [
    {
     "name": "stderr",
     "output_type": "stream",
     "text": [
      "/home/marcello/github/ChessBreaker/env/lib/python3.8/site-packages/keras/layers/core/lambda_layer.py:303: UserWarning: model is not loaded, but a Lambda layer uses it. It may cause errors.\n",
      "  function = cls._parse_function_from_config(config, custom_objects,\n"
     ]
    }
   ],
   "source": [
    "import chess\n",
    "import tensorflow as tf\n",
    "import numpy as np\n",
    "import utils\n",
    "\n",
    "model = tf.keras.models.load_model(\"/home/marcello/github/ChessBreaker/old_stuff/tmp_first_model/checkpoint-44.hdf5\")\n",
    "\n",
    "board = chess.Board()\n",
    "\n",
    "board_history = [board.fen()[:-6]]\n",
    "planes = None\n",
    "\n",
    "def softmax(x):\n",
    "    return np.exp(x) / np.sum(np.exp(x))"
   ]
  },
  {
   "cell_type": "code",
   "execution_count": 4,
   "metadata": {},
   "outputs": [],
   "source": [
    "# planes = utils.update_planes(planes, board, board_history)\n",
    "# move = chess.Move.from_uci(\"e2e4\")\n",
    "# board.push(move)\n",
    "# board_history.append(board.fen()[:-6])\n",
    "# board"
   ]
  },
  {
   "cell_type": "code",
   "execution_count": 5,
   "metadata": {},
   "outputs": [],
   "source": [
    "planes = utils.update_planes(planes, board, board_history)\n",
    "i = 0\n",
    "j = 0\n",
    "output_array = np.zeros([8, 8, 73], dtype=np.float32)\n",
    "move = chess.Move.from_uci(\"e2e3\")\n",
    "# mask = utils.mask_moves([move])[0]\n",
    "# output_array[mask[0], mask[1], mask[2]] = 1\n",
    "\n",
    "board.push(move)\n",
    "board_history.append(board.fen()[:-6])\n",
    "planes = utils.update_planes(planes, board, board_history)"
   ]
  },
  {
   "cell_type": "code",
   "execution_count": 124,
   "metadata": {},
   "outputs": [
    {
     "name": "stdout",
     "output_type": "stream",
     "text": [
      "118\n",
      "[[0. 0. 0. 0. 0. 0. 0. 0.]\n",
      " [0. 0. 0. 0. 0. 0. 0. 0.]\n",
      " [0. 0. 0. 0. 0. 0. 0. 0.]\n",
      " [0. 0. 0. 0. 0. 0. 0. 0.]\n",
      " [0. 0. 0. 0. 0. 0. 0. 0.]\n",
      " [0. 0. 0. 0. 0. 0. 0. 0.]\n",
      " [0. 0. 0. 0. 0. 0. 0. 0.]\n",
      " [0. 0. 0. 0. 0. 0. 0. 0.]]\n"
     ]
    }
   ],
   "source": [
    "print(i)\n",
    "print(planes[:, :, i])\n",
    "i+=1"
   ]
  },
  {
   "cell_type": "code",
   "execution_count": null,
   "metadata": {},
   "outputs": [],
   "source": []
  },
  {
   "cell_type": "code",
   "execution_count": null,
   "metadata": {},
   "outputs": [],
   "source": [
    "print(j)\n",
    "print(output_array[:, :, j])\n",
    "j+=1"
   ]
  },
  {
   "cell_type": "code",
   "execution_count": null,
   "metadata": {},
   "outputs": [],
   "source": [
    "planes = utils.update_planes(planes, board, board_history)\n",
    "legal_moves = board.legal_moves\n",
    "action_v, outcome = model(tf.expand_dims(planes, axis=0))\n",
    "action_v = action_v[0]\n",
    "# print(np.shape(action_v))\n",
    "print(outcome[0].numpy())\n",
    "\n",
    "idxs = utils.mask_moves(legal_moves)\n",
    "move_value = []\n",
    "for move, idx in zip(legal_moves, idxs):\n",
    "    move_value.append(action_v[idx[0], idx[1], idx[2]].numpy())\n",
    "\n",
    "move_value = softmax(move_value)\n",
    "\n",
    "high_av = -100\n",
    "best_move = None\n",
    "for move, value in zip(legal_moves, move_value):\n",
    "    if value > high_av:\n",
    "        # print(move, value)\n",
    "        high_av = value\n",
    "        best_move = move\n",
    "\n",
    "board.push(best_move)\n",
    "board_history.append(board.fen()[:-6])\n",
    "print(board.outcome(claim_draw=True).outcome)\n",
    "board"
   ]
  },
  {
   "cell_type": "code",
   "execution_count": null,
   "metadata": {},
   "outputs": [],
   "source": [
    "print(utils.outcome(board.outcome(claim_draw=True).result()))"
   ]
  }
 ],
 "metadata": {
  "kernelspec": {
   "display_name": "Python 3.8.10 ('env': venv)",
   "language": "python",
   "name": "python3"
  },
  "language_info": {
   "codemirror_mode": {
    "name": "ipython",
    "version": 3
   },
   "file_extension": ".py",
   "mimetype": "text/x-python",
   "name": "python",
   "nbconvert_exporter": "python",
   "pygments_lexer": "ipython3",
   "version": "3.8.10"
  },
  "orig_nbformat": 4,
  "vscode": {
   "interpreter": {
    "hash": "6ff546d1c5a7064c8e32c19edaef78491647a0db70d1b75d69edec23d383707d"
   }
  }
 },
 "nbformat": 4,
 "nbformat_minor": 2
}
