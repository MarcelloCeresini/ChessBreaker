{
  "cells": [
    {
      "cell_type": "code",
      "execution_count": 2,
      "metadata": {
        "colab": {
          "base_uri": "https://localhost:8080/"
        },
        "id": "YCb_OWiXl0H1",
        "outputId": "a832d19b-67f2-42d1-91a6-5c353473274f"
      },
      "outputs": [
        {
          "name": "stderr",
          "output_type": "stream",
          "text": [
            "2022-08-18 22:40:17.938197: I tensorflow/stream_executor/cuda/cuda_gpu_executor.cc:975] successful NUMA node read from SysFS had negative value (-1), but there must be at least one NUMA node, so returning NUMA node zero\n",
            "2022-08-18 22:40:17.984442: I tensorflow/stream_executor/cuda/cuda_gpu_executor.cc:975] successful NUMA node read from SysFS had negative value (-1), but there must be at least one NUMA node, so returning NUMA node zero\n",
            "2022-08-18 22:40:17.984795: I tensorflow/stream_executor/cuda/cuda_gpu_executor.cc:975] successful NUMA node read from SysFS had negative value (-1), but there must be at least one NUMA node, so returning NUMA node zero\n",
            "2022-08-18 22:40:17.985628: I tensorflow/core/platform/cpu_feature_guard.cc:193] This TensorFlow binary is optimized with oneAPI Deep Neural Network Library (oneDNN) to use the following CPU instructions in performance-critical operations:  AVX2 FMA\n",
            "To enable them in other operations, rebuild TensorFlow with the appropriate compiler flags.\n",
            "2022-08-18 22:40:17.987357: I tensorflow/stream_executor/cuda/cuda_gpu_executor.cc:975] successful NUMA node read from SysFS had negative value (-1), but there must be at least one NUMA node, so returning NUMA node zero\n",
            "2022-08-18 22:40:17.987695: I tensorflow/stream_executor/cuda/cuda_gpu_executor.cc:975] successful NUMA node read from SysFS had negative value (-1), but there must be at least one NUMA node, so returning NUMA node zero\n",
            "2022-08-18 22:40:17.987959: I tensorflow/stream_executor/cuda/cuda_gpu_executor.cc:975] successful NUMA node read from SysFS had negative value (-1), but there must be at least one NUMA node, so returning NUMA node zero\n",
            "2022-08-18 22:40:18.827646: I tensorflow/stream_executor/cuda/cuda_gpu_executor.cc:975] successful NUMA node read from SysFS had negative value (-1), but there must be at least one NUMA node, so returning NUMA node zero\n",
            "2022-08-18 22:40:18.827831: I tensorflow/stream_executor/cuda/cuda_gpu_executor.cc:975] successful NUMA node read from SysFS had negative value (-1), but there must be at least one NUMA node, so returning NUMA node zero\n",
            "2022-08-18 22:40:18.827952: I tensorflow/stream_executor/cuda/cuda_gpu_executor.cc:975] successful NUMA node read from SysFS had negative value (-1), but there must be at least one NUMA node, so returning NUMA node zero\n",
            "2022-08-18 22:40:18.828068: I tensorflow/core/common_runtime/gpu/gpu_device.cc:1532] Created device /job:localhost/replica:0/task:0/device:GPU:0 with 3480 MB memory:  -> device: 0, name: NVIDIA GeForce RTX 2060, pci bus id: 0000:01:00.0, compute capability: 7.5\n"
          ]
        }
      ],
      "source": [
        "import chess\n",
        "import numpy as np\n",
        "import utils\n",
        "conf = utils.Config()\n",
        "\n",
        "\n",
        "def set_piece_on_free_square(board, free_squares, piece):\n",
        "    '''\n",
        "    Given the new piece to put and the free squares available, puts the piece in a legal position\n",
        "    '''\n",
        "    is_valid = False\n",
        "    remaining_squares = free_squares.copy()\n",
        "    c = 0\n",
        "\n",
        "    # retry until it's valid, stop if there are no more remaining squares (c is a control counter)\n",
        "    while not is_valid and c<64 and len(remaining_squares)>0:\n",
        "        c+=1\n",
        "        \n",
        "        # randomply choose a square\n",
        "        square = np.random.choice(remaining_squares)\n",
        "        remaining_squares.remove(square)\n",
        "        # put down the piece\n",
        "        board.set_piece_at(square, piece) \n",
        "\n",
        "\n",
        "        if piece.piece_type == chess.KING:\n",
        "            # opposite check (kings touch)\n",
        "            if board.status() == chess.STATUS_OPPOSITE_CHECK:    \n",
        "                is_valid = False\n",
        "            else:\n",
        "                is_valid = True\n",
        "        else:\n",
        "            # check if it's a valid position\n",
        "            is_valid = board.is_valid()\n",
        "\n",
        "        if not is_valid:\n",
        "            board.remove_piece_at(square) \n",
        "    \n",
        "    if c >= 64 or len(remaining_squares) <= 0:\n",
        "        # error, makes the whole process restart again\n",
        "        return None\n",
        "    else:\n",
        "        free_squares.remove(square)\n",
        "        # return the used square\n",
        "        return square\n",
        "\n",
        "\n",
        "def set_rand_piece(board, free_squares, all_pieces):\n",
        "    '''\n",
        "    Given the free squares and the pieces from which to choose, adds a random piece\n",
        "    '''\n",
        "\n",
        "    remaining_pieces = all_pieces.copy()\n",
        "\n",
        "    # tries with all different pieces until one works\n",
        "    while len(remaining_pieces) > 0:\n",
        "\n",
        "        piece = np.random.choice(remaining_pieces)\n",
        "        remaining_squares = free_squares.copy()\n",
        "        square = set_piece_on_free_square(board, remaining_squares, piece)\n",
        "\n",
        "        # set_piece has failed, retry\n",
        "        if square == None:\n",
        "            remaining_pieces.remove(piece)\n",
        "        else:\n",
        "            # not only valid but also legal position (you have to be able to make moves, not instant end)\n",
        "            if board.outcome() == None: \n",
        "                free_squares.remove(square)\n",
        "                return True\n",
        "            # if it's an instant end remove the piece you just placed and try with another piece\n",
        "            else: \n",
        "                board.remove_piece_at(square)\n",
        "                remaining_pieces.remove(piece)\n",
        "                \n",
        "    # if none of the pieces can be placed\n",
        "    return False\n",
        "\n",
        "\n",
        "def gen_rand_board_n_pieces(n_pieces, pyece_types=[chess.QUEEN, chess.ROOK, chess.BISHOP, chess.KNIGHT, chess.PAWN], color=None):\n",
        "    assert n_pieces > 2, \"you cannot have less than three pieces\"\n",
        "    \n",
        "    flag = False\n",
        "    while flag == False:\n",
        "        flag = True\n",
        "        board = chess.Board()\n",
        "\n",
        "        # WHITE to move\n",
        "        board.clear() \n",
        "        free_squares = list(range(64))\n",
        "\n",
        "        set_piece_on_free_square(board, free_squares, chess.Piece(chess.KING, chess.WHITE))\n",
        "        set_piece_on_free_square(board, free_squares, chess.Piece(chess.KING, chess.BLACK))\n",
        "\n",
        "        colors = [chess.WHITE, chess.BLACK]\n",
        "        all_pieces = [chess.Piece(piece, color) for piece in pyece_types for color in colors]\n",
        "\n",
        "        # randomly choose if first move is black's or white\n",
        "        if color == None:\n",
        "            np.random.choice([chess.WHITE, chess.BLACK])\n",
        "            board.push(chess.Move.null())\n",
        "            board.clear_stack()\n",
        "        # else put the chosen color as first player\n",
        "        else:\n",
        "            if color == chess.BLACK:\n",
        "                board.push(chess.Move.null())\n",
        "                board.clear_stack()\n",
        "\n",
        "        # put the pieces on the board\n",
        "        for n in range(n_pieces-2):\n",
        "            # if at any point set_rand_piece fails, break and restart from scratch the loop\n",
        "            if flag == False:\n",
        "                break\n",
        "            else:\n",
        "                flag = set_rand_piece(board, free_squares, all_pieces)\n",
        "        \n",
        "        if flag == False:\n",
        "            print(\"Restarting, cannot reach n_pieces\")\n",
        "\n",
        "    return board"
      ]
    },
    {
      "cell_type": "markdown",
      "metadata": {},
      "source": [
        "For \"ground truth\" you can evaluate with tablebase"
      ]
    },
    {
      "cell_type": "code",
      "execution_count": 7,
      "metadata": {
        "id": "KrfvbbCItNJj"
      },
      "outputs": [],
      "source": [
        "def generate_dataset(total_games, path, n_pieces_min=3, n_pieces_max=7, piece_types=[chess.QUEEN, chess.ROOK, chess.BISHOP, chess.KNIGHT, chess.PAWN]):\n",
        "    '''\n",
        "    Write in a txt file fen strings of starting endgames positions, given piece types and number of pieces\n",
        "    '''\n",
        "    \n",
        "    with open(path, \"w\") as f: # to generate the file in case it does not exist\n",
        "        pass\n",
        "\n",
        "    with open(path, \"a\") as f:\n",
        "        for _ in range(int(total_games/(2*(n_pieces_max+1-n_pieces_min)))):\n",
        "            # equal distribution of initial move for each color\n",
        "            for color in [chess.WHITE, chess.BLACK]:\n",
        "                # equal distribution of piece ranges (from min to max)\n",
        "                for n_pieces in range(n_pieces_min, n_pieces_max+1):\n",
        "                    board = gen_rand_board_n_pieces(n_pieces, piece_types, color)\n",
        "                    f.write(board.fen()+\"\\n\")"
      ]
    },
    {
      "cell_type": "code",
      "execution_count": 8,
      "metadata": {
        "colab": {
          "base_uri": "https://localhost:8080/"
        },
        "id": "LycZT_PinFd2",
        "outputId": "30eaa42e-4c88-4a9f-a769-c70e31ef7878"
      },
      "outputs": [],
      "source": [
        "# generate_dataset(conf.N_GAMES_ENDGAME_TRAIN, conf.PATH_ENDGAME_TRAIN_DATASET)\n",
        "generate_dataset(conf.N_GAMES_ENDGAME_EVAL, conf.PATH_ENDGAME_EVAL_DATASET)\n",
        "# generate_dataset(conf.N_GAMES_ENDGAME_ROOK, conf.PATH_ENDGAME_ROOK, n_pieces_max=3, piece_types=[chess.ROOK])\n",
        "# generate_dataset(conf.N_GAMES_ENDGAME_TRAIN, conf.PATH_ENDGAME_3_4_pieces, n_pieces_max=4)"
      ]
    }
  ],
  "metadata": {
    "colab": {
      "name": "random_endgame_gen.ipynb",
      "provenance": []
    },
    "kernelspec": {
      "display_name": "Python 3.8.10 ('env': venv)",
      "language": "python",
      "name": "python3"
    },
    "language_info": {
      "codemirror_mode": {
        "name": "ipython",
        "version": 3
      },
      "file_extension": ".py",
      "mimetype": "text/x-python",
      "name": "python",
      "nbconvert_exporter": "python",
      "pygments_lexer": "ipython3",
      "version": "3.8.10"
    },
    "orig_nbformat": 4,
    "vscode": {
      "interpreter": {
        "hash": "6ff546d1c5a7064c8e32c19edaef78491647a0db70d1b75d69edec23d383707d"
      }
    }
  },
  "nbformat": 4,
  "nbformat_minor": 0
}
