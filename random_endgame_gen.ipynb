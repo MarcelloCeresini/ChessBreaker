{
  "cells": [
    {
      "cell_type": "code",
      "execution_count": 30,
      "metadata": {
        "colab": {
          "base_uri": "https://localhost:8080/"
        },
        "id": "YCb_OWiXl0H1",
        "outputId": "a832d19b-67f2-42d1-91a6-5c353473274f"
      },
      "outputs": [
        {
          "output_type": "stream",
          "name": "stdout",
          "text": [
            "Looking in indexes: https://pypi.org/simple, https://us-python.pkg.dev/colab-wheels/public/simple/\n",
            "Requirement already satisfied: chess in /usr/local/lib/python3.7/dist-packages (1.9.2)\n"
          ]
        }
      ],
      "source": [
        "!pip3 install chess --upgrade\n",
        "import chess\n",
        "import numpy as np\n",
        "\n",
        "\n",
        "def set_piece_on_free_square(board, free_squares, piece):\n",
        "    is_valid = False\n",
        "    remaining_squares = free_squares.copy()\n",
        "    c = 0\n",
        "\n",
        "    while not is_valid and c<64 and len(remaining_squares)>0:\n",
        "        c+=1\n",
        "        square = np.random.choice(remaining_squares)\n",
        "        remaining_squares.remove(square)\n",
        "        board.set_piece_at(square, piece) \n",
        "\n",
        "        if piece.piece_type == chess.KING:\n",
        "            if board.status() == chess.STATUS_OPPOSITE_CHECK:    # opposite check (kings touch)\n",
        "                is_valid = False\n",
        "            else:\n",
        "                is_valid = True\n",
        "        else:\n",
        "            is_valid = board.is_valid()\n",
        "\n",
        "        if not is_valid:\n",
        "            board.remove_piece_at(square) \n",
        "    \n",
        "    if c >= 64 or len(remaining_squares) <= 0:\n",
        "        return None\n",
        "    else:\n",
        "        free_squares.remove(square)\n",
        "        return square\n",
        "\n",
        "\n",
        "def set_rand_piece(board, free_squares, all_pieces):\n",
        "    is_valid = False\n",
        "    remaining_pieces = all_pieces.copy()\n",
        "\n",
        "    while not is_valid and len(remaining_pieces) > 0:\n",
        "        piece = np.random.choice(remaining_pieces)\n",
        "        remaining_squares = free_squares.copy()\n",
        "        square = set_piece_on_free_square(board, remaining_squares, piece)\n",
        "\n",
        "        if square == None: # set_piece has failed, retry\n",
        "            remaining_pieces.remove(piece)\n",
        "        else:\n",
        "            if board.outcome() == None: # not only valid but also legal position (you have to be able to make moves, not instant end)\n",
        "                free_squares.remove(square)\n",
        "                return True\n",
        "            else: # so remove the piece you just placed and try with another piece\n",
        "                board.remove_piece_at(square)\n",
        "                remaining_pieces.remove(piece)\n",
        "                \n",
        "    return False\n",
        "\n",
        "\n",
        "def gen_rand_board_n_pieces(n_pieces, color=None):\n",
        "    assert n_pieces > 2, \"you cannot have less than two pieces\"\n",
        "    \n",
        "    flag = False\n",
        "    while flag == False:\n",
        "        flag = True\n",
        "        board = chess.Board()\n",
        "        board.clear() # WHITE to move\n",
        "        free_squares = list(range(64))\n",
        "        set_piece_on_free_square(board, free_squares, chess.Piece(chess.KING, chess.WHITE))\n",
        "        set_piece_on_free_square(board, free_squares, chess.Piece(chess.KING, chess.BLACK))\n",
        "\n",
        "        pieces = [chess.PAWN, chess.BISHOP, chess.KNIGHT, chess.ROOK, chess.QUEEN]\n",
        "        colors = [chess.WHITE, chess.BLACK]\n",
        "\n",
        "        all_pieces = [chess.Piece(piece, color) for piece in pieces for color in colors]\n",
        "\n",
        "        if color == None:\n",
        "            np.random.choice([chess.WHITE, chess.BLACK])\n",
        "            board.push(chess.Move.null())\n",
        "            board.clear_stack()\n",
        "        else:\n",
        "            if color == chess.BLACK:\n",
        "                board.push(chess.Move.null())\n",
        "                board.clear_stack()\n",
        "\n",
        "        for n in range(n_pieces-2):\n",
        "            if flag == False:\n",
        "                break\n",
        "            else:\n",
        "                flag = set_rand_piece(board, free_squares, all_pieces)\n",
        "        \n",
        "        if flag == False:\n",
        "            print(\"Restarting, cannot reach n_pieces\")\n",
        "\n",
        "    return board"
      ]
    },
    {
      "cell_type": "code",
      "execution_count": 14,
      "metadata": {
        "colab": {
          "base_uri": "https://localhost:8080/",
          "height": 235
        },
        "id": "f4tlgqQjl0H_",
        "outputId": "1d85e0ff-6c7c-4dfd-9ecb-3b5475e7a30b"
      },
      "outputs": [
        {
          "output_type": "error",
          "ename": "FileNotFoundError",
          "evalue": "ignored",
          "traceback": [
            "\u001b[0;31m---------------------------------------------------------------------------\u001b[0m",
            "\u001b[0;31mFileNotFoundError\u001b[0m                         Traceback (most recent call last)",
            "\u001b[0;32m<ipython-input-14-3ef41a8b9a35>\u001b[0m in \u001b[0;36m<module>\u001b[0;34m()\u001b[0m\n\u001b[1;32m      3\u001b[0m \u001b[0mn_pieces_min\u001b[0m \u001b[0;34m=\u001b[0m \u001b[0;36m3\u001b[0m\u001b[0;34m\u001b[0m\u001b[0;34m\u001b[0m\u001b[0m\n\u001b[1;32m      4\u001b[0m \u001b[0mn_pieces_max\u001b[0m \u001b[0;34m=\u001b[0m \u001b[0;36m7\u001b[0m\u001b[0;34m\u001b[0m\u001b[0;34m\u001b[0m\u001b[0m\n\u001b[0;32m----> 5\u001b[0;31m \u001b[0;32mwith\u001b[0m \u001b[0mopen\u001b[0m\u001b[0;34m(\u001b[0m\u001b[0;34m\"dataset/rand_pos_train.txt\"\u001b[0m\u001b[0;34m,\u001b[0m \u001b[0;34m\"a\"\u001b[0m\u001b[0;34m)\u001b[0m \u001b[0;32mas\u001b[0m \u001b[0mf\u001b[0m\u001b[0;34m:\u001b[0m\u001b[0;34m\u001b[0m\u001b[0;34m\u001b[0m\u001b[0m\n\u001b[0m\u001b[1;32m      6\u001b[0m \u001b[0;34m\u001b[0m\u001b[0m\n\u001b[1;32m      7\u001b[0m     \u001b[0;32mfor\u001b[0m \u001b[0mi\u001b[0m \u001b[0;32min\u001b[0m \u001b[0mrange\u001b[0m\u001b[0;34m(\u001b[0m\u001b[0mint\u001b[0m\u001b[0;34m(\u001b[0m\u001b[0mtotal_games\u001b[0m\u001b[0;34m/\u001b[0m\u001b[0;34m(\u001b[0m\u001b[0;36m2\u001b[0m\u001b[0;34m*\u001b[0m\u001b[0;34m(\u001b[0m\u001b[0mn_pieces_max\u001b[0m\u001b[0;34m-\u001b[0m\u001b[0mn_pieces_min\u001b[0m\u001b[0;34m)\u001b[0m\u001b[0;34m)\u001b[0m\u001b[0;34m)\u001b[0m\u001b[0;34m)\u001b[0m\u001b[0;34m:\u001b[0m\u001b[0;34m\u001b[0m\u001b[0;34m\u001b[0m\u001b[0m\n",
            "\u001b[0;31mFileNotFoundError\u001b[0m: [Errno 2] No such file or directory: 'dataset/rand_pos_train.txt'"
          ]
        }
      ],
      "source": [
        "# 8-3=5 --> 5*2*500000 --> 5'000'000\n",
        "total_games = 5000000\n",
        "n_pieces_min = 3\n",
        "n_pieces_max = 7\n",
        "\n",
        "    for i in range(int(total_games/(2*(n_pieces_max-n_pieces_min)))):\n",
        "        for color in [chess.WHITE, chess.BLACK]:\n",
        "            for n_pieces in range(n_pieces_min, n_pieces_max+1):\n",
        "                board = gen_rand_board_n_pieces(n_pieces, color)\n",
        "                f.write(board.fen())\n",
        "\n",
        "board"
      ]
    },
    {
      "cell_type": "code",
      "execution_count": 15,
      "metadata": {
        "id": "8cTOLoIwl0IC"
      },
      "outputs": [],
      "source": [
        "# import chess.gaviota\n",
        "\n",
        "# tablebase = chess.gaviota.PythonTablebase()\n",
        "# tablebase.add_directory(\"tablebase/Gaviota-Tablebases/\")"
      ]
    },
    {
      "cell_type": "code",
      "execution_count": 16,
      "metadata": {
        "id": "z_Q1FKq2l0ID"
      },
      "outputs": [],
      "source": [
        "# tablebase.probe_wdl(board)"
      ]
    },
    {
      "cell_type": "code",
      "source": [
        "with open(\"dataset.txt\", \"w\") as f:\n",
        "    pass\n",
        "\n",
        "def generate_dataset(total_games, n_pieces_min=3, n_pieces_max=7):\n",
        "    with open(\"dataset.txt\", \"a\") as f:\n",
        "        for i in range(int(total_games/(2*(n_pieces_max+1-n_pieces_min)))):\n",
        "            for color in [chess.WHITE, chess.BLACK]:\n",
        "                for n_pieces in range(n_pieces_min, n_pieces_max+1):\n",
        "                    board = gen_rand_board_n_pieces(n_pieces, color)\n",
        "                    f.write(board.fen()+\"\\n\")\n",
        "                    # print(board.fen())\n"
      ],
      "metadata": {
        "id": "KrfvbbCItNJj"
      },
      "execution_count": 38,
      "outputs": []
    },
    {
      "cell_type": "code",
      "source": [
        "# 8-3=5 --> 5*2*00000 --> 500'000\n",
        "total_games = 2*5*50000\n",
        "\n",
        "# %timeit generate_dataset(total_games)\n",
        "generate_dataset(total_games)"
      ],
      "metadata": {
        "colab": {
          "base_uri": "https://localhost:8080/"
        },
        "id": "LycZT_PinFd2",
        "outputId": "30eaa42e-4c88-4a9f-a769-c70e31ef7878"
      },
      "execution_count": 39,
      "outputs": [
        {
          "output_type": "stream",
          "name": "stdout",
          "text": [
            "8/5k2/8/r7/8/5K2/8/8 w - - 0 1\n",
            "k7/8/2P5/1K6/7P/8/8/8 w - - 0 1\n",
            "8/3q4/8/2P5/8/4PK1k/8/8 w - - 0 1\n",
            "4K3/8/3b4/6N1/5P2/4q1k1/8/8 w - - 0 1\n",
            "8/2R2q2/5k2/2Q4P/1p5K/8/8/8 w - - 0 1\n",
            "8/8/8/2R5/6k1/3K4/8/8 b - - 1 1\n",
            "8/2K4P/4k3/8/8/8/3b4/8 b - - 1 1\n",
            "4K3/5R2/8/3k4/8/8/8/5R1q b - - 1 1\n",
            "8/8/3kq3/8/8/2r5/4R3/1R1K4 b - - 1 1\n",
            "8/8/K2k2R1/4N2N/8/2p5/8/1Q6 b - - 1 1\n"
          ]
        }
      ]
    }
  ],
  "metadata": {
    "kernelspec": {
      "display_name": "Python 3.8.10 ('env': venv)",
      "language": "python",
      "name": "python3"
    },
    "language_info": {
      "codemirror_mode": {
        "name": "ipython",
        "version": 3
      },
      "file_extension": ".py",
      "mimetype": "text/x-python",
      "name": "python",
      "nbconvert_exporter": "python",
      "pygments_lexer": "ipython3",
      "version": "3.8.10"
    },
    "orig_nbformat": 4,
    "vscode": {
      "interpreter": {
        "hash": "6ff546d1c5a7064c8e32c19edaef78491647a0db70d1b75d69edec23d383707d"
      }
    },
    "colab": {
      "name": "random_endgame_gen.ipynb",
      "provenance": []
    }
  },
  "nbformat": 4,
  "nbformat_minor": 0
}