{
  "cells": [
    {
      "cell_type": "code",
      "execution_count": 1,
      "metadata": {
        "colab": {
          "base_uri": "https://localhost:8080/"
        },
        "id": "YCb_OWiXl0H1",
        "outputId": "a832d19b-67f2-42d1-91a6-5c353473274f"
      },
      "outputs": [],
      "source": [
        "# !pip3 install chess --upgrade\n",
        "import chess\n",
        "import numpy as np\n",
        "import utils\n",
        "conf = utils.Config()\n",
        "\n",
        "\n",
        "def set_piece_on_free_square(board, free_squares, piece):\n",
        "    is_valid = False\n",
        "    remaining_squares = free_squares.copy()\n",
        "    c = 0\n",
        "\n",
        "    while not is_valid and c<64 and len(remaining_squares)>0:\n",
        "        c+=1\n",
        "        square = np.random.choice(remaining_squares)\n",
        "        remaining_squares.remove(square)\n",
        "        board.set_piece_at(square, piece) \n",
        "\n",
        "        if piece.piece_type == chess.KING:\n",
        "            if board.status() == chess.STATUS_OPPOSITE_CHECK:    # opposite check (kings touch)\n",
        "                is_valid = False\n",
        "            else:\n",
        "                is_valid = True\n",
        "        else:\n",
        "            is_valid = board.is_valid()\n",
        "\n",
        "        if not is_valid:\n",
        "            board.remove_piece_at(square) \n",
        "    \n",
        "    if c >= 64 or len(remaining_squares) <= 0:\n",
        "        return None\n",
        "    else:\n",
        "        free_squares.remove(square)\n",
        "        return square\n",
        "\n",
        "\n",
        "def set_rand_piece(board, free_squares, all_pieces):\n",
        "    is_valid = False\n",
        "    remaining_pieces = all_pieces.copy()\n",
        "\n",
        "    while not is_valid and len(remaining_pieces) > 0:\n",
        "        piece = np.random.choice(remaining_pieces)\n",
        "        remaining_squares = free_squares.copy()\n",
        "        square = set_piece_on_free_square(board, remaining_squares, piece)\n",
        "\n",
        "        if square == None: # set_piece has failed, retry\n",
        "            remaining_pieces.remove(piece)\n",
        "        else:\n",
        "            if board.outcome() == None: # not only valid but also legal position (you have to be able to make moves, not instant end)\n",
        "                free_squares.remove(square)\n",
        "                return True\n",
        "            else: # so remove the piece you just placed and try with another piece\n",
        "                board.remove_piece_at(square)\n",
        "                remaining_pieces.remove(piece)\n",
        "                \n",
        "    return False\n",
        "\n",
        "\n",
        "def gen_rand_board_n_pieces(n_pieces, color=None):\n",
        "    assert n_pieces > 2, \"you cannot have less than two pieces\"\n",
        "    \n",
        "    flag = False\n",
        "    while flag == False:\n",
        "        flag = True\n",
        "        board = chess.Board()\n",
        "        board.clear() # WHITE to move\n",
        "        free_squares = list(range(64))\n",
        "        set_piece_on_free_square(board, free_squares, chess.Piece(chess.KING, chess.WHITE))\n",
        "        set_piece_on_free_square(board, free_squares, chess.Piece(chess.KING, chess.BLACK))\n",
        "\n",
        "        pieces = [chess.PAWN, chess.BISHOP, chess.KNIGHT, chess.ROOK, chess.QUEEN]\n",
        "        colors = [chess.WHITE, chess.BLACK]\n",
        "\n",
        "        all_pieces = [chess.Piece(piece, color) for piece in pieces for color in colors]\n",
        "\n",
        "        if color == None:\n",
        "            np.random.choice([chess.WHITE, chess.BLACK])\n",
        "            board.push(chess.Move.null())\n",
        "            board.clear_stack()\n",
        "        else:\n",
        "            if color == chess.BLACK:\n",
        "                board.push(chess.Move.null())\n",
        "                board.clear_stack()\n",
        "\n",
        "        for n in range(n_pieces-2):\n",
        "            if flag == False:\n",
        "                break\n",
        "            else:\n",
        "                flag = set_rand_piece(board, free_squares, all_pieces)\n",
        "        \n",
        "        if flag == False:\n",
        "            print(\"Restarting, cannot reach n_pieces\")\n",
        "\n",
        "    return board"
      ]
    },
    {
      "cell_type": "markdown",
      "metadata": {},
      "source": [
        "For \"ground truth\" you can evaluate with tablebase"
      ]
    },
    {
      "cell_type": "code",
      "execution_count": 2,
      "metadata": {
        "id": "8cTOLoIwl0IC"
      },
      "outputs": [],
      "source": [
        "# import chess.gaviota\n",
        "\n",
        "# tablebase = chess.gaviota.PythonTablebase()\n",
        "# tablebase.add_directory(\"tablebase/Gaviota-Tablebases/\")\n",
        "# tablebase.probe_wdl(board)\n"
      ]
    },
    {
      "cell_type": "code",
      "execution_count": 9,
      "metadata": {
        "id": "KrfvbbCItNJj"
      },
      "outputs": [],
      "source": [
        "def generate_dataset(total_games, path, n_pieces_min=3, n_pieces_max=7):\n",
        "    with open(path, \"w\") as f: # to generate the file in case it does not exist\n",
        "        pass\n",
        "\n",
        "    with open(path, \"a\") as f:\n",
        "        for i in range(int(total_games/(2*(n_pieces_max+1-n_pieces_min)))):\n",
        "            if i % 1000 == 0:\n",
        "                print(i)\n",
        "            for color in [chess.WHITE, chess.BLACK]:\n",
        "                for n_pieces in range(n_pieces_min, n_pieces_max+1):\n",
        "                    board = gen_rand_board_n_pieces(n_pieces, color)\n",
        "                    f.write(board.fen()+\"\\n\")"
      ]
    },
    {
      "cell_type": "code",
      "execution_count": 10,
      "metadata": {
        "colab": {
          "base_uri": "https://localhost:8080/"
        },
        "id": "LycZT_PinFd2",
        "outputId": "30eaa42e-4c88-4a9f-a769-c70e31ef7878"
      },
      "outputs": [
        {
          "name": "stdout",
          "output_type": "stream",
          "text": [
            "0\n",
            "1000\n",
            "2000\n",
            "3000\n",
            "4000\n"
          ]
        }
      ],
      "source": [
        "generate_dataset(conf.N_GAMES_ENDGAME_TRAIN, conf.PATH_ENDGAME_TRAIN_DATASET)\n",
        "generate_dataset(conf.N_GAMES_ENDGAME_EVAL, conf.PATH_ENDGAME_EVAL_DATASET)"
      ]
    }
  ],
  "metadata": {
    "colab": {
      "name": "random_endgame_gen.ipynb",
      "provenance": []
    },
    "kernelspec": {
      "display_name": "Python 3.8.10 ('env': venv)",
      "language": "python",
      "name": "python3"
    },
    "language_info": {
      "codemirror_mode": {
        "name": "ipython",
        "version": 3
      },
      "file_extension": ".py",
      "mimetype": "text/x-python",
      "name": "python",
      "nbconvert_exporter": "python",
      "pygments_lexer": "ipython3",
      "version": "3.8.10"
    },
    "orig_nbformat": 4,
    "vscode": {
      "interpreter": {
        "hash": "6ff546d1c5a7064c8e32c19edaef78491647a0db70d1b75d69edec23d383707d"
      }
    }
  },
  "nbformat": 4,
  "nbformat_minor": 0
}
