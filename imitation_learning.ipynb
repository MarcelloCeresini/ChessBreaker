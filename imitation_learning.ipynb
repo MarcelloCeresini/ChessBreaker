{
 "cells": [
  {
   "cell_type": "code",
   "execution_count": 1,
   "metadata": {},
   "outputs": [
    {
     "name": "stdout",
     "output_type": "stream",
     "text": [
      "INFO:tensorflow:Mixed precision compatibility check (mixed_float16): OK\n",
      "Your GPU will likely run quickly with dtype policy mixed_float16 as it has compute capability of at least 7.0. Your GPU: NVIDIA GeForce RTX 2060, compute capability 7.5\n"
     ]
    },
    {
     "name": "stderr",
     "output_type": "stream",
     "text": [
      "2022-07-20 19:21:16.887146: I tensorflow/stream_executor/cuda/cuda_gpu_executor.cc:975] successful NUMA node read from SysFS had negative value (-1), but there must be at least one NUMA node, so returning NUMA node zero\n",
      "2022-07-20 19:21:16.914239: I tensorflow/stream_executor/cuda/cuda_gpu_executor.cc:975] successful NUMA node read from SysFS had negative value (-1), but there must be at least one NUMA node, so returning NUMA node zero\n",
      "2022-07-20 19:21:16.914405: I tensorflow/stream_executor/cuda/cuda_gpu_executor.cc:975] successful NUMA node read from SysFS had negative value (-1), but there must be at least one NUMA node, so returning NUMA node zero\n",
      "2022-07-20 19:21:16.915245: I tensorflow/stream_executor/cuda/cuda_gpu_executor.cc:975] successful NUMA node read from SysFS had negative value (-1), but there must be at least one NUMA node, so returning NUMA node zero\n"
     ]
    }
   ],
   "source": [
    "import chess, os\n",
    "import numpy as np\n",
    "import tensorflow as tf\n",
    "\n",
    "from model import ResNet\n",
    "import utils\n",
    "conf = utils.Config()\n",
    "\n",
    "\n",
    "from tensorflow.keras import mixed_precision\n",
    "mixed_precision.set_global_policy('mixed_float16')"
   ]
  },
  {
   "cell_type": "code",
   "execution_count": 2,
   "metadata": {},
   "outputs": [],
   "source": [
    "def gen(path):\n",
    "    planes = None\n",
    "    output_array = np.zeros([*conf.BOARD_SHAPE, conf.N_PLANES], dtype=conf.PLANES_DTYPE_NP)\n",
    "    \n",
    "    for filename in [path]:\n",
    "    # for filename in glob.glob(os.path.join(database_path, '*.pgn')): # for whole dataset\n",
    "        with open(os.path.join(os.getcwd(), filename), 'r') as pgn:\n",
    "            game = chess.pgn.read_game(pgn)\n",
    "\n",
    "            while game != None:\n",
    "                whole_game_moves = game.game().mainline_moves()\n",
    "                board = chess.Board()\n",
    "                board_history = [board.fen()[:-6]]\n",
    "                \n",
    "                for move in whole_game_moves:\n",
    "                    # the input is the PREVIOUS board\n",
    "                    planes = utils.update_planes(planes, board, board_history)\n",
    "                    # inputs.append(planes)\n",
    "                    \n",
    "                    # the output is the move from that position\n",
    "                    mask = utils.mask_moves([move])[0]\n",
    "                    output_array[mask[0], mask[1], mask[2]] = 1\n",
    "                    # outputs.append(output_array)\n",
    "\n",
    "                    yield (planes, output_array) ### yield before resetting the output\n",
    "\n",
    "                    output_array[mask[0], mask[1], mask[2]] = 0\n",
    "                    \n",
    "                    # then you actually push the move preparing for next turn\n",
    "                    board.push(move)\n",
    "                    board_history.append(board.fen()[:-6])\n",
    "                \n",
    "                game = chess.pgn.read_game(pgn)\n",
    "\n",
    "# avg = np.average([info[file, \"games\"] for file in info.keys()])"
   ]
  },
  {
   "cell_type": "code",
   "execution_count": 3,
   "metadata": {},
   "outputs": [
    {
     "name": "stderr",
     "output_type": "stream",
     "text": [
      "2022-07-20 19:21:18.934079: I tensorflow/core/platform/cpu_feature_guard.cc:193] This TensorFlow binary is optimized with oneAPI Deep Neural Network Library (oneDNN) to use the following CPU instructions in performance-critical operations:  AVX2 FMA\n",
      "To enable them in other operations, rebuild TensorFlow with the appropriate compiler flags.\n",
      "2022-07-20 19:21:18.935240: I tensorflow/stream_executor/cuda/cuda_gpu_executor.cc:975] successful NUMA node read from SysFS had negative value (-1), but there must be at least one NUMA node, so returning NUMA node zero\n",
      "2022-07-20 19:21:18.935505: I tensorflow/stream_executor/cuda/cuda_gpu_executor.cc:975] successful NUMA node read from SysFS had negative value (-1), but there must be at least one NUMA node, so returning NUMA node zero\n",
      "2022-07-20 19:21:18.935624: I tensorflow/stream_executor/cuda/cuda_gpu_executor.cc:975] successful NUMA node read from SysFS had negative value (-1), but there must be at least one NUMA node, so returning NUMA node zero\n",
      "2022-07-20 19:21:19.323943: I tensorflow/stream_executor/cuda/cuda_gpu_executor.cc:975] successful NUMA node read from SysFS had negative value (-1), but there must be at least one NUMA node, so returning NUMA node zero\n",
      "2022-07-20 19:21:19.324113: I tensorflow/stream_executor/cuda/cuda_gpu_executor.cc:975] successful NUMA node read from SysFS had negative value (-1), but there must be at least one NUMA node, so returning NUMA node zero\n",
      "2022-07-20 19:21:19.324238: I tensorflow/stream_executor/cuda/cuda_gpu_executor.cc:975] successful NUMA node read from SysFS had negative value (-1), but there must be at least one NUMA node, so returning NUMA node zero\n",
      "2022-07-20 19:21:19.324353: I tensorflow/core/common_runtime/gpu/gpu_device.cc:1532] Created device /job:localhost/replica:0/task:0/device:GPU:0 with 3449 MB memory:  -> device: 0, name: NVIDIA GeForce RTX 2060, pci bus id: 0000:01:00.0, compute capability: 7.5\n"
     ]
    }
   ],
   "source": [
    "train_file_path = \"/home/marcello/github/ChessBreaker/data/Database/lichess_elite_2014-11.pgn\"  # 19547 samples\n",
    "val_file_path = \"/home/marcello/github/ChessBreaker/data/Database/lichess_elite_2014-09.pgn\"    # 15587 samples\n",
    "\n",
    "dataset = tf.data.Dataset.from_generator(gen, args = [train_file_path],\n",
    "    output_signature=(\n",
    "    tf.TensorSpec((8,8,119), dtype=tf.dtypes.float16),\n",
    "    tf.TensorSpec((8,8,73), dtype=tf.dtypes.float16)\n",
    "))\n",
    "\n",
    "val_dataset = tf.data.Dataset.from_generator(gen, args = [val_file_path],\n",
    "    output_signature=(\n",
    "    tf.TensorSpec((8,8,119), dtype=tf.dtypes.float16),\n",
    "    tf.TensorSpec((8,8,73), dtype=tf.dtypes.float16)\n",
    "))\n",
    "\n",
    "ds = dataset.shuffle(conf.BATCH_DIM*1000) \\\n",
    "    .batch(conf.BATCH_DIM, num_parallel_calls=tf.data.AUTOTUNE) \\\n",
    "    .prefetch(tf.data.AUTOTUNE)\n",
    "\n",
    "val_ds = val_dataset.shuffle(conf.BATCH_DIM*1000) \\\n",
    "    .batch(conf.BATCH_DIM*2, num_parallel_calls=tf.data.AUTOTUNE) \\\n",
    "    .prefetch(tf.data.AUTOTUNE)"
   ]
  },
  {
   "cell_type": "code",
   "execution_count": 4,
   "metadata": {},
   "outputs": [],
   "source": [
    "model = ResNet()\n",
    "model.compile(\n",
    "    optimizer = \"adam\",\n",
    "    loss = tf.keras.losses.BinaryCrossentropy(label_smoothing=0.1),\n",
    "    metrics = [\"accuracy\"]\n",
    ")\n",
    "\n",
    "# model.fit(\n",
    "#     ds,\n",
    "#     validation_data = val_ds,\n",
    "#     epochs = 20,\n",
    "#     steps_per_epoch = 950,\n",
    "#     workers = 16,\n",
    "#     use_multiprocessing = True\n",
    "# )"
   ]
  },
  {
   "cell_type": "code",
   "execution_count": 5,
   "metadata": {},
   "outputs": [
    {
     "name": "stdout",
     "output_type": "stream",
     "text": [
      "(8, 8, 8, 119)\n"
     ]
    },
    {
     "name": "stderr",
     "output_type": "stream",
     "text": [
      "2022-07-20 18:43:57.262263: E tensorflow/stream_executor/cuda/cuda_blas.cc:232] failed to create cublas handle: CUBLAS_STATUS_NOT_INITIALIZED\n",
      "2022-07-20 18:43:57.262305: E tensorflow/stream_executor/cuda/cuda_blas.cc:234] Failure to initialize cublas may be due to OOM (cublas needs some free memory when you initialize it, and your deep-learning framework may have preallocated more than its fair share), or may be because this binary was not built with support for the GPU in your machine.\n",
      "2022-07-20 18:43:57.262330: W tensorflow/core/framework/op_kernel.cc:1745] OP_REQUIRES failed at conv_ops.cc:838 : INTERNAL: Attempting to perform BLAS operation using StreamExecutor without BLAS support\n"
     ]
    },
    {
     "ename": "InternalError",
     "evalue": "Exception encountered when calling layer \"conv2d\" (type Conv2D).\n\nAttempting to perform BLAS operation using StreamExecutor without BLAS support [Op:Conv2D]\n\nCall arguments received by layer \"conv2d\" (type Conv2D):\n  • inputs=tf.Tensor(shape=(8, 8, 8, 119), dtype=float16)",
     "output_type": "error",
     "traceback": [
      "\u001b[0;31m---------------------------------------------------------------------------\u001b[0m",
      "\u001b[0;31mInternalError\u001b[0m                             Traceback (most recent call last)",
      "\u001b[1;32m/home/marcello/github/ChessBreaker/imitation_learning.ipynb Cell 5\u001b[0m in \u001b[0;36m<cell line: 6>\u001b[0;34m()\u001b[0m\n\u001b[1;32m      <a href='vscode-notebook-cell:/home/marcello/github/ChessBreaker/imitation_learning.ipynb#ch0000004?line=2'>3</a>\u001b[0m     sam, _ \u001b[39m=\u001b[39m sample\n\u001b[1;32m      <a href='vscode-notebook-cell:/home/marcello/github/ChessBreaker/imitation_learning.ipynb#ch0000004?line=3'>4</a>\u001b[0m     \u001b[39mprint\u001b[39m(np\u001b[39m.\u001b[39mshape(sam))\n\u001b[0;32m----> <a href='vscode-notebook-cell:/home/marcello/github/ChessBreaker/imitation_learning.ipynb#ch0000004?line=5'>6</a>\u001b[0m model(tf\u001b[39m.\u001b[39;49mstack([tf\u001b[39m.\u001b[39;49mzeros([\u001b[39m*\u001b[39;49mconf\u001b[39m.\u001b[39;49mBOARD_SHAPE, conf\u001b[39m.\u001b[39;49mTOTAL_PLANES])]\u001b[39m*\u001b[39;49m\u001b[39m8\u001b[39;49m, axis \u001b[39m=\u001b[39;49m \u001b[39m0\u001b[39;49m))\n",
      "File \u001b[0;32m~/github/ChessBreaker/env/lib/python3.8/site-packages/keras/utils/traceback_utils.py:67\u001b[0m, in \u001b[0;36mfilter_traceback.<locals>.error_handler\u001b[0;34m(*args, **kwargs)\u001b[0m\n\u001b[1;32m     65\u001b[0m \u001b[39mexcept\u001b[39;00m \u001b[39mException\u001b[39;00m \u001b[39mas\u001b[39;00m e:  \u001b[39m# pylint: disable=broad-except\u001b[39;00m\n\u001b[1;32m     66\u001b[0m   filtered_tb \u001b[39m=\u001b[39m _process_traceback_frames(e\u001b[39m.\u001b[39m__traceback__)\n\u001b[0;32m---> 67\u001b[0m   \u001b[39mraise\u001b[39;00m e\u001b[39m.\u001b[39mwith_traceback(filtered_tb) \u001b[39mfrom\u001b[39;00m \u001b[39mNone\u001b[39m\n\u001b[1;32m     68\u001b[0m \u001b[39mfinally\u001b[39;00m:\n\u001b[1;32m     69\u001b[0m   \u001b[39mdel\u001b[39;00m filtered_tb\n",
      "File \u001b[0;32m~/github/ChessBreaker/model.py:54\u001b[0m, in \u001b[0;36mResNet.call\u001b[0;34m(self, inputs)\u001b[0m\n\u001b[1;32m     52\u001b[0m \u001b[39mdef\u001b[39;00m \u001b[39mcall\u001b[39m(\u001b[39mself\u001b[39m, inputs):\n\u001b[0;32m---> 54\u001b[0m     x \u001b[39m=\u001b[39m \u001b[39mself\u001b[39;49m\u001b[39m.\u001b[39;49mblock_1(inputs)\n\u001b[1;32m     55\u001b[0m     x \u001b[39m=\u001b[39m \u001b[39mself\u001b[39m\u001b[39m.\u001b[39mblock_2(x)\n\u001b[1;32m     56\u001b[0m     x \u001b[39m=\u001b[39m \u001b[39mself\u001b[39m\u001b[39m.\u001b[39mblock_3(x)\n",
      "File \u001b[0;32m~/github/ChessBreaker/model.py:20\u001b[0m, in \u001b[0;36mResNetBlock.call\u001b[0;34m(self, inputs)\u001b[0m\n\u001b[1;32m     18\u001b[0m \u001b[39mdef\u001b[39;00m \u001b[39mcall\u001b[39m(\u001b[39mself\u001b[39m, inputs):\n\u001b[0;32m---> 20\u001b[0m     x \u001b[39m=\u001b[39m \u001b[39mself\u001b[39;49m\u001b[39m.\u001b[39;49mconv_1(inputs)\n\u001b[1;32m     21\u001b[0m     x \u001b[39m=\u001b[39m layers\u001b[39m.\u001b[39mBatchNormalization()(x)\n\u001b[1;32m     22\u001b[0m     x \u001b[39m=\u001b[39m layers\u001b[39m.\u001b[39mActivation(\u001b[39m\"\u001b[39m\u001b[39mgelu\u001b[39m\u001b[39m\"\u001b[39m)(x)\n",
      "\u001b[0;31mInternalError\u001b[0m: Exception encountered when calling layer \"conv2d\" (type Conv2D).\n\nAttempting to perform BLAS operation using StreamExecutor without BLAS support [Op:Conv2D]\n\nCall arguments received by layer \"conv2d\" (type Conv2D):\n  • inputs=tf.Tensor(shape=(8, 8, 8, 119), dtype=float16)"
     ]
    }
   ],
   "source": [
    "sam = 0\n",
    "for sample in ds.take(1):\n",
    "    sam, _ = sample\n",
    "    print(np.shape(sam))\n",
    "\n",
    "model(tf.stack([tf.zeros([*conf.BOARD_SHAPE, conf.TOTAL_PLANES])]*8, axis = 0))"
   ]
  },
  {
   "cell_type": "code",
   "execution_count": null,
   "metadata": {},
   "outputs": [
    {
     "name": "stdout",
     "output_type": "stream",
     "text": [
      "tf.Tensor([  8   8   8 119], shape=(4,), dtype=int32)\n"
     ]
    }
   ],
   "source": [
    "print()"
   ]
  }
 ],
 "metadata": {
  "kernelspec": {
   "display_name": "Python 3.8.10 ('env': venv)",
   "language": "python",
   "name": "python3"
  },
  "language_info": {
   "codemirror_mode": {
    "name": "ipython",
    "version": 3
   },
   "file_extension": ".py",
   "mimetype": "text/x-python",
   "name": "python",
   "nbconvert_exporter": "python",
   "pygments_lexer": "ipython3",
   "version": "3.8.10"
  },
  "orig_nbformat": 4,
  "vscode": {
   "interpreter": {
    "hash": "6ff546d1c5a7064c8e32c19edaef78491647a0db70d1b75d69edec23d383707d"
   }
  }
 },
 "nbformat": 4,
 "nbformat_minor": 2
}
